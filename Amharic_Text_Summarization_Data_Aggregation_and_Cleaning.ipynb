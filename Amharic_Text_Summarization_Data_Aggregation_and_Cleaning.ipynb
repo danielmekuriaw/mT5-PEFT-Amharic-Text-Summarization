{
  "cells": [
    {
      "cell_type": "markdown",
      "metadata": {
        "id": "bJn6dp-Hr1D9"
      },
      "source": [
        "# Amharic Data Aggregation and Cleaning\n",
        "\n",
        "This notebook gathers, compiles and cleans up the Amharic data collected from different sources and creates the three different versions of the Amharic benchmark dataset this project curates and uses (i.e., Amharic-1, Amharic-2, Amharic-3). It also presents descriptive statistics as well as visualizations of the token counts of the entries of these datasets.\n",
        "\n",
        "The raw data files are all collected into the same folder and uploaded to Google Drive for this Colab notebook to access them. They come in .csv and .jsonl formats, and the sources of these data files are cited on the final report of this project."
      ]
    },
    {
      "cell_type": "code",
      "execution_count": null,
      "metadata": {
        "id": "taS-HC88aSUp"
      },
      "outputs": [],
      "source": [
        "# Installing required packages\n",
        "!pip install transformers sentencepiece > /dev/null 2>&1"
      ]
    },
    {
      "cell_type": "code",
      "execution_count": null,
      "metadata": {
        "id": "u8mXvXZtrEbR"
      },
      "outputs": [],
      "source": [
        "# Importing packages\n",
        "import pandas as pd\n",
        "import re\n",
        "import glob\n",
        "from collections import Counter\n",
        "from sklearn.model_selection import train_test_split\n",
        "from transformers import MT5Tokenizer\n",
        "from google.colab import drive\n",
        "import matplotlib.pyplot as plt"
      ]
    },
    {
      "cell_type": "code",
      "execution_count": null,
      "metadata": {
        "colab": {
          "base_uri": "https://localhost:8080/"
        },
        "id": "Pw92PJNVrUAG",
        "outputId": "08d23efc-e424-429e-b530-8cf710a046af"
      },
      "outputs": [
        {
          "name": "stdout",
          "output_type": "stream",
          "text": [
            "Mounted at /content/drive\n"
          ]
        }
      ],
      "source": [
        "# Mouting Google Drive to the current Colab session for accessing files stored in the Drive\n",
        "drive.mount('/content/drive')"
      ]
    },
    {
      "cell_type": "code",
      "execution_count": null,
      "metadata": {
        "id": "17EpqQQ9yYRH"
      },
      "outputs": [],
      "source": [
        "# Path to the Google Drive folder where all the data files are\n",
        "# This would be updated to a new path if the files are moved to a different location\n",
        "folder_path = '/content/drive/My Drive/CPSC_490_Data/'\n",
        "\n",
        "# Initializing an empty DataFrame to compile all data entries\n",
        "aggregated_data = pd.DataFrame(columns=[\"text\", \"summary\"])"
      ]
    },
    {
      "cell_type": "code",
      "execution_count": null,
      "metadata": {
        "colab": {
          "base_uri": "https://localhost:8080/"
        },
        "id": "jekVi5qF-UKv",
        "outputId": "e6601837-7051-4d00-c939-21e69443a4b8"
      },
      "outputs": [
        {
          "name": "stdout",
          "output_type": "stream",
          "text": [
            "                                                text  \\\n",
            "0  ባለአምስት ኮከብ ሆቴል ስፔሻላይዝድ ሆስፒታልና የተለያዩ ግዙፍ አገልግሎት...   \n",
            "1  የግል ባንኮች የተቀማጭ ገንዘብ በአንድ አመት ውስጥ በ276 በመቶ በመጨመ...   \n",
            "2  በተጠርጣሪዎቹ ላይ የ14 ቀናት ምርመራ ጊዜ ተፈቅዷል ጠቅላይ ሚኒስትር አ...   \n",
            "3  ከ2006 አም ጀምሮ የፌዴራል ከፍተኛ ፍርድ ቤት በዳኝነት ሲያገለግሉ የቆ...   \n",
            "4  የአገሪቱን የኤታማዦር ሹም ጨምሮ አምስት ከፍተኛ የፌዴራል እና የክልል መ...   \n",
            "\n",
            "                                             summary  \n",
            "0  የአገልግሎት መስጫ ተቋማት ለመገንባት መሬት የጠየቁ በልዩ ሊዝ ተስተናገዱ...  \n",
            "1                 የግል ባንኮች ተቀማጭ ገንዘብ 124 ቢሊዮን ብር ደረሰ  \n",
            "2  በቦምብ ፍንዳታው ምክንያት ኃላፊነታቸውን አልተወጡም የተባሉ ተጠርጣሪዎች ...  \n",
            "3          ለሕገ መንግሥቱ ታማኝ አይደሉም የተባሉት ዳኛ ከኃላፊነታቸው ተነሱ  \n",
            "4                      የመሰንበቻው የባለሥልጣናቱ ግድያ እና አንድምታ  \n",
            "                                                text  \\\n",
            "0  The Ethiopian national side continued on their...   \n",
            "1  የይርጋለም የተቀናጀ የግብርና ኢንዱስትሪ ፓርክ 11 ሼዶች የተጠናቀቁ ሲሆ...   \n",
            "2  በኮሮና ቀውስ ወቅት ትምህርት ቤቶች መዋእለ ህፃናት እና ሌሎች የልጆች መ...   \n",
            "3  ባህር ዳር ግንቦት 242012 አም አብመድ ሯንዳ የእንቅስቃሴ ገደቦችን ለ...   \n",
            "4  የምክር ቤቱ ምክትል አፈ ጉባኤ አቶ ወልደ ገብርኤል አብርሀ ዛሬ በአዲስ ...   \n",
            "\n",
            "                                             summary  \n",
            "0    ​Morocco’s CHAN Team Trounced Ethiopia in Rabat  \n",
            "1    የይርጋለም የተቀናጀ የግብርና ኢንዱስትሪ ፓርክ በከፊል ስራ መጀመሩ ተገለፀ  \n",
            "2                       ትውልድ የሚቀርፀው የኢትዮጵያ ልጆች ቴሌቭዥን  \n",
            "3                       ሩዋንዳ ገደቦችን የማላላት ውሳኔዋን ሻረች፡፡  \n",
            "4  የኢትዮጵያ ሰንደቅ  ዓላማ  የነጻነት ፤ የእኩልነትና የአንድነት መገለጫ ...  \n"
          ]
        }
      ],
      "source": [
        "# Source: Israel Abebe Azime and Nebil Mohammed. An Amharic News Text classification Dataset, 2021.\n",
        "# Link: https://arxiv.org/abs/2103.05639\n",
        "\n",
        "# Aggregating from test.csv and train.csv files\n",
        "for file_name in [\"test.csv\", \"train.csv\"]:\n",
        "  df = pd.read_csv(folder_path + file_name)\n",
        "  df = df[[\"article\", \"headline\"]].rename(columns={\"article\":\"text\", \"headline\":\"summary\"}) # Renaming columns: article --> text, headline --> summary (to have consistent column names)\n",
        "\n",
        "  print(df.head())\n",
        "  aggregated_data = pd.concat([aggregated_data, df], ignore_index=True) # Adding to the aggregation dataframe"
      ]
    },
    {
      "cell_type": "code",
      "execution_count": null,
      "metadata": {
        "colab": {
          "base_uri": "https://localhost:8080/"
        },
        "id": "wLKfirSL5Esd",
        "outputId": "ba4ff535-fed4-4dac-a347-21657d1c0ca2"
      },
      "outputs": [
        {
          "name": "stdout",
          "output_type": "stream",
          "text": [
            "Current Number of Entries:  51483\n"
          ]
        }
      ],
      "source": [
        "print(\"Current Number of Entries: \", aggregated_data.shape[0]) # 51,483"
      ]
    },
    {
      "cell_type": "code",
      "execution_count": null,
      "metadata": {
        "colab": {
          "base_uri": "https://localhost:8080/"
        },
        "id": "DiJyleyd_SpD",
        "outputId": "59115278-a5b6-4d99-aae8-fd5b759d15e8"
      },
      "outputs": [
        {
          "name": "stdout",
          "output_type": "stream",
          "text": [
            "Number of Files:  7\n"
          ]
        }
      ],
      "source": [
        "# Source: Amr M. Zaki, Mahmoud I. Khalil, and Hazem M. Abbas. Amharic Abstractive Text Summarization, 2020.\n",
        "# Link: https://arxiv.org/abs/2003.13721\n",
        "\n",
        "# Aggregating from the CSV files starting with \"news_\" (there are many of them with such naming)\n",
        "num_of_files = 0\n",
        "\n",
        "for file_name in glob.glob(folder_path + \"news_*.csv\"):\n",
        "  df = pd.read_csv(file_name)\n",
        "  df = df[[\"content\", \"title\"]].rename(columns={\"content\":\"text\", \"title\":\"summary\"}) # Renaming columns: content --> text, title --> summary (for consistency)\n",
        "  num_of_files += 1 # Counting the number of files\n",
        "\n",
        "  aggregated_data = pd.concat([aggregated_data, df], ignore_index=True) # Adding to the aggregation dataframe\n",
        "\n",
        "print(\"Number of Files: \", num_of_files) # 7 files"
      ]
    },
    {
      "cell_type": "code",
      "execution_count": null,
      "metadata": {
        "colab": {
          "base_uri": "https://localhost:8080/"
        },
        "id": "Avkq2k3rAfP0",
        "outputId": "336aa643-2d14-486d-a2a9-05fcff840736"
      },
      "outputs": [
        {
          "name": "stdout",
          "output_type": "stream",
          "text": [
            "Current Number of Entries:  126259\n"
          ]
        }
      ],
      "source": [
        "print(\"Current Number of Entries: \", aggregated_data.shape[0]) # 126,259"
      ]
    },
    {
      "cell_type": "code",
      "execution_count": null,
      "metadata": {
        "colab": {
          "base_uri": "https://localhost:8080/"
        },
        "id": "x4G6D-Y5AXyr",
        "outputId": "9d5ad692-eb88-477b-a5f6-01641c41c631"
      },
      "outputs": [
        {
          "name": "stdout",
          "output_type": "stream",
          "text": [
            "                                                text  \\\n",
            "0  የ28 አመቷ ሴት ስሟ እንዲገለጥ ያልተፈለገ ሲሆን ንቦቹ አይኗ ውሰጥ ሲገ...   \n",
            "1  ፎቶ፡ GettyImages የአረና ፓርቲ ሊቀመንብር አቶ አብርሃ ደስታ በላ...   \n",
            "2  ይህ በሚሊዮኖች ዘንድ ተወዳጅነት ያተረፈ ማሕበራዊ ድር-አምባ እንዴት የአ...   \n",
            "3  ሚኒስትሩን ዶ/ር ስለሺ በቀለን ዋቢ አድርገው የአገር ውስጥ ሚዲያዎች እን...   \n",
            "4  በ140 ሃገራት ውስጥ የሚኖሩ 150 ሺህ የሚሆኑ ሰዎች ቃለመጠይቅ የተደረ...   \n",
            "\n",
            "                                             summary  \n",
            "0  በታይዋን ከአንዲት ሴት አይን ውስጥ ዶክተሮች አራት ንቦችን አወጡ። በደሴ...  \n",
            "1  ከሰሞኑ ባለቤትነታቸው የአረና ትግራይ ፓርቲ አባል ናቸው የተባሉ አስራ ስ...  \n",
            "2  የአሜሪካው ፕሬዝደንት ዶናልድ ትራምፕ ቲክ ቶክ የተሰኘው የተንቀሳቃሽ ምስ...  \n",
            "3  የታላቁ ሕዳሴ ግድብ የመጀመሪያ ምዕራፍ ውሃ ሙሌት መጀመሩን የውሃ፣ መስኖ...  \n",
            "4  የሰው ልጆች ተናዳጅ፣ ድብርታም እና ጭንቀታም እየሆኑ መምጣታቸውን በዓለም...  \n",
            "                                                text  \\\n",
            "0  ሃያ መርሴዲስ ቤንዝ ቅንጡ መኪኖች፣ በባንክ የተደበቀ 3 ሚሊዮን ዶላር፣ ...   \n",
            "1  (ከግራ ወደ ቀኝ) ፕሮፌሰር መረራ ጉዲና፣ አቶ አሉላ ሃይሉ፣ አቶ አዳነ ...   \n",
            "2  የብር የመግዛት አቅም እየቀነሰ ነው \"ሃገር ውስጥ የሚመረቱ እንደ ሽንኩር...   \n",
            "3  ሰሞኑን ኢትዮ-ቴሌኮም ተንቀሳቃሽ ስልኮችን ለመመዝገብ የወጣው ጥሪ ተንቀሳ...   \n",
            "4  ኒማ በተባለው ፖሊስ ጣቢያ መስኮት ሰብረው በመግባት መዝረፋቸው ተገልጿል።...   \n",
            "\n",
            "                                             summary  \n",
            "0  ባለፈው ጥር ወር በአንድ ጀምበር በተደረገ አሰሳ የተገኘው ነገር አስደንጋ...  \n",
            "1  በትግራይ ክልልና በፌደራል መንግሥቱ መካከል ያለው ግነኙነት ከጊዜ ወደጊዜ...  \n",
            "2  ነዋሪነቱ በአዲስ አበባ ከተማ የሆነውና መካከለኛ ገቢ ካለቸው ሰዎች ሊመደ...  \n",
            "3  ሰሞኑን ኢትዮ-ቴሌኮም በሃገሪቱ ዉስጥ ያሉ ሁሉም የሞባይል ቀፎዎች እና ሌ...  \n",
            "4  በዛሬዋ ዕለት በጋና መዲና አክራ ዘራፊዎች አንድ የፖሊስ ጣቢያን መስኮት ...  \n",
            "                                                text  \\\n",
            "0  የቀድሞዋ የቁማር መጫወቻ ቤት ተቀጣሪ ማሪሎ በኔቫዳ ከፓዶክ ጋር ትኖር እ...   \n",
            "1  ዘገባው እንደሚያመለክተው ልዑላኑ የታሰሩት ትናንት አርብ ጠዋት ነው። ከታ...   \n",
            "2  እርሳቸው ብቻም ሳይሆኑ ቤተሰባቸውም ወደ አሜሪካ እንዳይገቡ እገዳው ተጥሎ...   \n",
            "3  አመጣጤ ቤተሰብ ጥየቃ ነበር፤ የዘመድ ሠርግ ለመካፈል። በደስታ መሃል አል...   \n",
            "4  ጥሪው ለሁሉም ልጃገረዶችና ሴቶች የቀረበ ሲሆን ይህ ውሳኔ የተላለፈው የቀ...   \n",
            "\n",
            "                                             summary  \n",
            "0  ባለፈው እሁድ 58 ሰዎችን የገደለው የላስቬጋሱ ታጣቂ የሴት ጓደኛ የሆነች...  \n",
            "1  ሳዑዲ አረቢያ የልዑል አልጋወራሹን ሞሐመድ ቢን ሳልማን ታናሽ ወንድምን ጨ...  \n",
            "2  የሱዳን የቀድሞ የመረጃና ደህንነት ኃላፊ ሳላህ ጎሽ ወደ አሜሪካ እንዳይገ...  \n",
            "3  ስሜ ሕይወት እሸቴ አስፋው ይባላል። አሁን የምኖረው ኖርዌይ መዲና ኦስሎ ...  \n",
            "4  የጋምቢያ መንግሥት በቀድሞው ፕሬዝዳንት ያያ ጃሜ የተፈፀሙ የጾታ ጥቃቶችን...  \n"
          ]
        }
      ],
      "source": [
        "# Source: Tahmid Hasan, Abhik Bhattacharjee, Md. Saiful Islam, Kazi Mubasshir, Yuan-Fang Li, Yong-Bin Kang, M. Sohel Rahman, and Rifat Shahriyar.\n",
        "#         XL-Sum: Large-Scale Multilingual Abstractive Summarization for 44 Languages. In Chengqing Zong, Fei Xia, Wenjie Li, and Roberto Navigli, editors,\n",
        "#         Findings of the Association for Computational Linguistics: ACL-IJCNLP 2021, pages 4693–4703, Online, August 2021. Association for Computational Linguistics.\n",
        "# Link: https://aclanthology.org/2021.findings-acl.413\n",
        "\n",
        "# Aggregating from 3 JSONL Files\n",
        "for file_name in [\"amharic_test.jsonl\", \"amharic_train.jsonl\", \"amharic_val.jsonl\"]:\n",
        "  df = pd.read_json(folder_path + file_name, lines=True) # Reading JSONL as dataframe\n",
        "  df = df[[\"text\", \"summary\"]] # Setting the column names to \"text\" and \"summary\" for consistency\n",
        "\n",
        "  print(df.head())\n",
        "  aggregated_data = pd.concat([aggregated_data, df], ignore_index = True) # Adding to the aggregation dataframe"
      ]
    },
    {
      "cell_type": "code",
      "execution_count": null,
      "metadata": {
        "colab": {
          "base_uri": "https://localhost:8080/"
        },
        "id": "iiTplbN8BcuD",
        "outputId": "0b4acedb-d319-4d7a-a51d-581ec75b75d4"
      },
      "outputs": [
        {
          "name": "stdout",
          "output_type": "stream",
          "text": [
            "Current Number of Entries:  133458\n"
          ]
        }
      ],
      "source": [
        "print(\"Current Number of Entries: \", aggregated_data.shape[0]) # 133,458"
      ]
    },
    {
      "cell_type": "code",
      "execution_count": null,
      "metadata": {
        "colab": {
          "base_uri": "https://localhost:8080/"
        },
        "id": "D0LNHGW_Bg9x",
        "outputId": "fbac1d61-ccb3-47d0-ae02-acfa8e361fdc"
      },
      "outputs": [
        {
          "name": "stdout",
          "output_type": "stream",
          "text": [
            "                                                text  \\\n",
            "0  በስመ አብ ፤  ወወልድ ፤  ወመንፈስ ቅዱስ ፤  አሐዱ አምላክ አሜን ። ...   \n",
            "1  ሚያዝያ  ቀን  ዓም የአንድነት ፓርቲ ብምቤት ባደረገው ስብሰባ ላይ ባስተ...   \n",
            "2  የኢትዮጵያንና የሱዳንን ድንበር የማካለሉ ሥራ ከመስከረም  ቀን  ዓም Oc...   \n",
            "3  በአርዕስቱ ለመጥቀስ እንደሞከርኩኝ የኦሮሞ ህዝብ ትግል ከትውልድ ለትውልድ...   \n",
            "4  ይሻል መጣ ብዬ ምርኩዝ አስጨበጨ መንገድ ያሳየሁት ፣  , ለካ ሌላም አይ...   \n",
            "\n",
            "                                             summary  \n",
            "0  ለርዕሰ አድባራት ለንደን ደብረ ጽዮን ቅድስት ማርያም የኢትዮጵያ ኦርቶዶክ...  \n",
            "1  የአንድነት  መድረክ የፖለቲካ ግንኙነት እና የጋራ እንቅስቃሴ ከመቀናጀት ...  \n",
            "2  ጀግኖች አባቶቻችን ደም የተቦካው ሉአላዊ ግዛታችን ላይ የሚደረገውን ስውር...  \n",
            "3  የኦሮሞ ህዝብ ትግል ከጭቁን የአማራ ህዝብ ጋር ሳይሆን ከገዢው መደብና ከ...  \n",
            "4  ይሻል መጣ ብዬ ምርኩዝ አስጨበጨ መንገድ ያሳየሁት ፣  ለካ ሌላም አይደል...  \n",
            "                                                text                summary\n",
            "0  አረንጓዴ ፡ ብጫና ፡ ቀይ ፡ ሰንደቅ ፡ ዓላማችን ፡  የአንድ ፡ ኢትዮጵ...          ሰንደቅ ፡ ዓላማችንን\n",
            "1  ለኢትዮጵያ የጥምር መንግስት ያስፈልጋታል በማለት በ ምርጫ አጥብቆ ሲከራከ...  ለዚህ መንግሥት ታላቅ ክብር አለኝ\n",
            "2  ቀጭኑ ዘቄራ  , ለአዲስ አበባ ከተማ ክብር ያላችሁ እንስማማለን ።  አዲ...         ግራውንድ ሲቀነስ አንድ\n",
            "3  ህወሓት የአጋር ፓርቲዎቹን የንግድ ተቋማትና ልማታዊ ባለሀብት እያለ የሚጠ...       ዶላር አዘዋዋሪዎቹ ደላሎች\n",
            "4  ዛሬ አርብ ልክ ከጠዋቱ  ፡  ላይ  የኢህአዴግ ወኪሎችና ኢህአዴግን እንደ...             ታላቅ ዕድል ነው\n"
          ]
        }
      ],
      "source": [
        "# Source: Amr M. Zaki, Mahmoud I. Khalil, and Hazem M. Abbas. Amharic Abstractive Text Summarization, 2020.\n",
        "# Link: https://arxiv.org/abs/2003.13721\n",
        "\n",
        "# Aggregating 2 more CSV files from this source\n",
        "csv_mappings = {\n",
        "    \"amhari_sent_min15.csv\": [\"Text\", \"Summary\"],\n",
        "    \"Amhari_clean_tokenized.csv\": [\"Text\", \"Summary\"]\n",
        "}\n",
        "\n",
        "for file_name, columns in csv_mappings.items():\n",
        "  df = pd.read_csv(folder_path + file_name)\n",
        "  df = df[columns].rename(columns={columns[0] : \"text\", columns[1]: \"summary\"}) # Renaming column names: Text --> text, Summary --> summary (for consistency)\n",
        "\n",
        "  print(df.head())\n",
        "  aggregated_data = pd.concat([aggregated_data, df], ignore_index = True)  # Adding to the aggregation dataframe\n"
      ]
    },
    {
      "cell_type": "code",
      "execution_count": null,
      "metadata": {
        "colab": {
          "base_uri": "https://localhost:8080/"
        },
        "id": "CMeCeL5uD4v_",
        "outputId": "893bb467-2400-474d-844a-52a232d75838"
      },
      "outputs": [
        {
          "name": "stdout",
          "output_type": "stream",
          "text": [
            "Current Number of Entries:  206902\n"
          ]
        }
      ],
      "source": [
        "print(\"Current Number of Entries: \", aggregated_data.shape[0]) # 206,902"
      ]
    },
    {
      "cell_type": "markdown",
      "metadata": {
        "id": "tz3OUtu79Imv"
      },
      "source": [
        "## Data Cleaning\n",
        "\n",
        "The following chunks perform specific data cleaning steps to improve the quality of the aggregated dataset. These include the removal of duplicates and NaN/incomplete entries as well as predominantly non-Amharic entries."
      ]
    },
    {
      "cell_type": "code",
      "execution_count": null,
      "metadata": {
        "colab": {
          "base_uri": "https://localhost:8080/"
        },
        "id": "pZnjTmOkKT38",
        "outputId": "3129b273-1834-4c5e-873e-4ca312f9811c"
      },
      "outputs": [
        {
          "name": "stdout",
          "output_type": "stream",
          "text": [
            "Number of duplicate rows: 0\n"
          ]
        }
      ],
      "source": [
        "# Remove duplicates based on 'text' and 'summary' columns\n",
        "aggregated_data.drop_duplicates(subset=['text', 'summary'], inplace=True)\n",
        "\n",
        "duplicate_count = aggregated_data.duplicated(subset=['text', 'summary']).sum()\n",
        "print(f\"Number of duplicate rows: {duplicate_count}\") # There doesn't seem to be any duplicates"
      ]
    },
    {
      "cell_type": "code",
      "execution_count": null,
      "metadata": {
        "id": "laVhjOwd8fnA"
      },
      "outputs": [],
      "source": [
        "# Removing any NaN (incomplete) entries\n",
        "aggregated_data = aggregated_data.dropna(subset=['text', 'summary'])"
      ]
    },
    {
      "cell_type": "code",
      "execution_count": null,
      "metadata": {
        "colab": {
          "base_uri": "https://localhost:8080/"
        },
        "id": "f06xSlyKAVRD",
        "outputId": "b88e27e5-3838-40e3-ebb8-3dbd6ec67aa7"
      },
      "outputs": [
        {
          "name": "stdout",
          "output_type": "stream",
          "text": [
            "Current Number of Entries:  168533\n"
          ]
        }
      ],
      "source": [
        "print(\"Current Number of Entries: \", aggregated_data.shape[0]) # 168,533"
      ]
    },
    {
      "cell_type": "code",
      "execution_count": null,
      "metadata": {
        "colab": {
          "base_uri": "https://localhost:8080/"
        },
        "id": "3VUwF0zb2C5K",
        "outputId": "6d4eefd3-b48c-4033-f99b-3982b8afb6f7"
      },
      "outputs": [
        {
          "name": "stdout",
          "output_type": "stream",
          "text": [
            "                                                text  \\\n",
            "0  ባለአምስት ኮከብ ሆቴል ስፔሻላይዝድ ሆስፒታልና የተለያዩ ግዙፍ አገልግሎት...   \n",
            "1  የግል ባንኮች የተቀማጭ ገንዘብ በአንድ አመት ውስጥ በ276 በመቶ በመጨመ...   \n",
            "2  በተጠርጣሪዎቹ ላይ የ14 ቀናት ምርመራ ጊዜ ተፈቅዷል ጠቅላይ ሚኒስትር አ...   \n",
            "3  ከ2006 አም ጀምሮ የፌዴራል ከፍተኛ ፍርድ ቤት በዳኝነት ሲያገለግሉ የቆ...   \n",
            "4  የአገሪቱን የኤታማዦር ሹም ጨምሮ አምስት ከፍተኛ የፌዴራል እና የክልል መ...   \n",
            "\n",
            "                                             summary  is_non_amharic_text  \\\n",
            "0  የአገልግሎት መስጫ ተቋማት ለመገንባት መሬት የጠየቁ በልዩ ሊዝ ተስተናገዱ...                False   \n",
            "1                 የግል ባንኮች ተቀማጭ ገንዘብ 124 ቢሊዮን ብር ደረሰ                False   \n",
            "2  በቦምብ ፍንዳታው ምክንያት ኃላፊነታቸውን አልተወጡም የተባሉ ተጠርጣሪዎች ...                False   \n",
            "3          ለሕገ መንግሥቱ ታማኝ አይደሉም የተባሉት ዳኛ ከኃላፊነታቸው ተነሱ                False   \n",
            "4                      የመሰንበቻው የባለሥልጣናቱ ግድያ እና አንድምታ                False   \n",
            "\n",
            "   is_non_amharic_summary  \n",
            "0                   False  \n",
            "1                   False  \n",
            "2                   False  \n",
            "3                   False  \n",
            "4                   False  \n"
          ]
        }
      ],
      "source": [
        "# Checking for any gibberish, non-Amharic or unexpected characters\n",
        "\n",
        "# Pattern for Geez (Amharic) characters, numbers, spaces, and specific punctuations\n",
        "geez_pattern = re.compile(r'[\\u1200-\\u137F0-9\\s‹›፡።፣፤፦]')\n",
        "\n",
        "def has_non_amharic(text):\n",
        "  '''\n",
        "  Determine if the given text contains significant non-Amharic characters (50% or more).\n",
        "\n",
        "  Args:\n",
        "    text (str): The text to be analyzed.\n",
        "\n",
        "  Returns:\n",
        "    bool: True if non-Amharic content is significant, False otherwise.\n",
        "  '''\n",
        "  # Checking if the text is a string\n",
        "  if not isinstance(text, str):\n",
        "      return False\n",
        "\n",
        "  # Finding the regex pattern for Amharic\n",
        "  amharic_chars = geez_pattern.findall(text)\n",
        "\n",
        "  # 80% threshold to say Amharic or non-Amharic (i.e., at least 80% of the characters have to be Amharic)\n",
        "  # This percentage was set to 50% during the preparation of Amharic-1\n",
        "  if len(amharic_chars) / len(text) < 0.8:\n",
        "    return True\n",
        "\n",
        "  return False\n",
        "\n",
        "# Applying non-Amharic check\n",
        "aggregated_data['is_non_amharic_text'] = aggregated_data['text'].apply(has_non_amharic) # On the text column\n",
        "aggregated_data['is_non_amharic_summary'] = aggregated_data['summary'].apply(has_non_amharic) # On the summary column\n",
        "\n",
        "# Filtering out non-Amharic rows\n",
        "aggregated_data_filtered = aggregated_data[~(aggregated_data['is_non_amharic_text'] | aggregated_data['is_non_amharic_summary'])]\n",
        "\n",
        "print(aggregated_data_filtered.head())"
      ]
    },
    {
      "cell_type": "code",
      "execution_count": null,
      "metadata": {
        "colab": {
          "base_uri": "https://localhost:8080/"
        },
        "id": "SBXh9XHdAFB9",
        "outputId": "24cd721c-68b6-4fda-d107-10ea1303bf35"
      },
      "outputs": [
        {
          "name": "stdout",
          "output_type": "stream",
          "text": [
            "Current Number of Entries:  168533\n"
          ]
        }
      ],
      "source": [
        "print(\"Current Number of Entries: \", aggregated_data.shape[0]) # 168,533 - either threshold doesn't change much"
      ]
    },
    {
      "cell_type": "code",
      "execution_count": null,
      "metadata": {
        "colab": {
          "base_uri": "https://localhost:8080/",
          "height": 182,
          "referenced_widgets": [
            "4439c1ecec9e4a8db95ccc3e100e7d0d",
            "6ba6f59ca7064038ae96f12b8315f7fa",
            "05a837e022b7430da7d92111a33ef3a7",
            "58ef5f73020944c99bfb5ef078bde3f5",
            "3b0c697c823a455c9b207c1e79e98463",
            "ebc6ab743c4549548144ee9206da023d",
            "f9ea67f7542346779773c9daf43aee68",
            "3026a7cd14e04368b6c31bbd62d2b5f9",
            "d15957208b0b436d83aff87806237d2b",
            "d22d30eba2184a85b4748b6ebd6ab0e2",
            "c1f03faa4f03442699893817c0a1e1b5",
            "5e17223597da41dfa3e82849d1bb39e7",
            "bcb92c346ca74854afb89cede82693c0",
            "d7485707a46e4cd0854c0c7598927e2f",
            "12d613c18fb74feab9f2de411ab9cff5",
            "d6c1e6b67441446aa1d94aa2fd31d0b3",
            "76b18c517d064123bd7d44ba2ccecec4",
            "ec97005a621f41b8b3b212016dbddba0",
            "0448dd42325a4749ab41ee946d4e35d3",
            "f00a1912bde54a8b81bde7d33188d327",
            "82eaef85df984b2cafe331b813b0e137",
            "f9a3750b75754525ab5c93d42ad84775",
            "6b484b25b21a4149bbcaf11772114e6e",
            "8389ecc9e5824b7b9cd306d40c3b7339",
            "454ea780ad0a444a9f94d462b89b09ef",
            "26cc922dd9114ac692638710fb770b7a",
            "e6cd6b7c22f24cbf8cfbc71eb8f4d2ff",
            "8853f548644042ca8417e36075e26a69",
            "82bab008af2947c69b5199a7c31a4817",
            "2177eaf3920149379660ac0129e22437",
            "78921f30c6954b68b5e3e1aa509ec54f",
            "d84f179044674afc8a5a05792016cfe4",
            "34dc7da533a140528e65b2488061c38a",
            "cbacf891a335444c895e628ca650658e",
            "feb71d671c5e4922b30d4a06e5e458f5",
            "16797bca56a14f4c8a393b6a4223e483",
            "ab5c5ebf65c04f10b0f5b8eb0f164115",
            "d655ad4462b8430b87c8b8e4da78b533",
            "1e42aa21380b4c94b32ffa50e2f3b60b",
            "1604f2cda6264f5ba32d011f7cb536c6",
            "c56dc50cdcfa4e188394cf6c4a4f0051",
            "fadc556217db42a0bf55fa222652db3b",
            "bd11566d575b44acb26f143dcbed3fd3",
            "25e4e2a633fd4a0ebb28dcb0a559dee1"
          ]
        },
        "id": "uASEShFEBg3s",
        "outputId": "019f1ff6-a94a-4c77-a407-ba4aba17784c"
      },
      "outputs": [
        {
          "data": {
            "application/vnd.jupyter.widget-view+json": {
              "model_id": "4439c1ecec9e4a8db95ccc3e100e7d0d",
              "version_major": 2,
              "version_minor": 0
            },
            "text/plain": [
              "tokenizer_config.json:   0%|          | 0.00/82.0 [00:00<?, ?B/s]"
            ]
          },
          "metadata": {},
          "output_type": "display_data"
        },
        {
          "data": {
            "application/vnd.jupyter.widget-view+json": {
              "model_id": "5e17223597da41dfa3e82849d1bb39e7",
              "version_major": 2,
              "version_minor": 0
            },
            "text/plain": [
              "spiece.model:   0%|          | 0.00/4.31M [00:00<?, ?B/s]"
            ]
          },
          "metadata": {},
          "output_type": "display_data"
        },
        {
          "data": {
            "application/vnd.jupyter.widget-view+json": {
              "model_id": "6b484b25b21a4149bbcaf11772114e6e",
              "version_major": 2,
              "version_minor": 0
            },
            "text/plain": [
              "special_tokens_map.json:   0%|          | 0.00/99.0 [00:00<?, ?B/s]"
            ]
          },
          "metadata": {},
          "output_type": "display_data"
        },
        {
          "data": {
            "application/vnd.jupyter.widget-view+json": {
              "model_id": "cbacf891a335444c895e628ca650658e",
              "version_major": 2,
              "version_minor": 0
            },
            "text/plain": [
              "config.json:   0%|          | 0.00/553 [00:00<?, ?B/s]"
            ]
          },
          "metadata": {},
          "output_type": "display_data"
        },
        {
          "name": "stderr",
          "output_type": "stream",
          "text": [
            "You are using the default legacy behaviour of the <class 'transformers.models.t5.tokenization_t5.T5Tokenizer'>. This is expected, and simply means that the `legacy` (previous) behavior will be used so nothing changes for you. If you want to use the new behaviour, set `legacy=False`. This should only be set if you understand what it means, and thouroughly read the reason why this was added as explained in https://github.com/huggingface/transformers/pull/24565\n"
          ]
        }
      ],
      "source": [
        "# Looking at the number of tokens\n",
        "# Using mT5's tokenizer to find the number of tokens\n",
        "tokenizer = MT5Tokenizer.from_pretrained('google/mt5-small')\n",
        "\n",
        "def count_tokens(text, tokenizer):\n",
        "    '''\n",
        "    Count the number of tokens in a given text using a specified tokenizer.\n",
        "\n",
        "    Args:\n",
        "        text (str): The text to be tokenized.\n",
        "        tokenizer: The tokenizer to be used for tokenizing the text.\n",
        "\n",
        "    Returns:\n",
        "        int: The total number of tokens in the tokenized text.\n",
        "    '''\n",
        "\n",
        "    # Encoding the text using the tokenizer\n",
        "    tokens = tokenizer.encode(text, add_special_tokens=True)\n",
        "\n",
        "    # Returning the number of tokens\n",
        "    return len(tokens)"
      ]
    },
    {
      "cell_type": "code",
      "execution_count": null,
      "metadata": {
        "colab": {
          "base_uri": "https://localhost:8080/"
        },
        "id": "ba4RmXcJAMIp",
        "outputId": "97ff0540-541a-471a-ca80-0b5b61fa2b0f"
      },
      "outputs": [
        {
          "name": "stderr",
          "output_type": "stream",
          "text": [
            "<ipython-input-23-bb9bfb2e8b28>:2: SettingWithCopyWarning: \n",
            "A value is trying to be set on a copy of a slice from a DataFrame.\n",
            "Try using .loc[row_indexer,col_indexer] = value instead\n",
            "\n",
            "See the caveats in the documentation: https://pandas.pydata.org/pandas-docs/stable/user_guide/indexing.html#returning-a-view-versus-a-copy\n",
            "  aggregated_data_filtered['text_length'] = aggregated_data_filtered['text'].apply(len)\n",
            "<ipython-input-23-bb9bfb2e8b28>:3: SettingWithCopyWarning: \n",
            "A value is trying to be set on a copy of a slice from a DataFrame.\n",
            "Try using .loc[row_indexer,col_indexer] = value instead\n",
            "\n",
            "See the caveats in the documentation: https://pandas.pydata.org/pandas-docs/stable/user_guide/indexing.html#returning-a-view-versus-a-copy\n",
            "  aggregated_data_filtered['summary_length'] = aggregated_data_filtered['summary'].apply(len)\n",
            "<ipython-input-23-bb9bfb2e8b28>:6: SettingWithCopyWarning: \n",
            "A value is trying to be set on a copy of a slice from a DataFrame.\n",
            "Try using .loc[row_indexer,col_indexer] = value instead\n",
            "\n",
            "See the caveats in the documentation: https://pandas.pydata.org/pandas-docs/stable/user_guide/indexing.html#returning-a-view-versus-a-copy\n",
            "  aggregated_data_filtered['text_word_count'] = aggregated_data_filtered['text'].apply(lambda x: len(x.split()))\n",
            "<ipython-input-23-bb9bfb2e8b28>:7: SettingWithCopyWarning: \n",
            "A value is trying to be set on a copy of a slice from a DataFrame.\n",
            "Try using .loc[row_indexer,col_indexer] = value instead\n",
            "\n",
            "See the caveats in the documentation: https://pandas.pydata.org/pandas-docs/stable/user_guide/indexing.html#returning-a-view-versus-a-copy\n",
            "  aggregated_data_filtered['summary_word_count'] = aggregated_data_filtered['summary'].apply(lambda x: len(x.split()))\n",
            "<ipython-input-23-bb9bfb2e8b28>:9: SettingWithCopyWarning: \n",
            "A value is trying to be set on a copy of a slice from a DataFrame.\n",
            "Try using .loc[row_indexer,col_indexer] = value instead\n",
            "\n",
            "See the caveats in the documentation: https://pandas.pydata.org/pandas-docs/stable/user_guide/indexing.html#returning-a-view-versus-a-copy\n",
            "  aggregated_data_filtered['text_token_count'] = aggregated_data_filtered['text'].apply(lambda x: count_tokens(x, tokenizer))\n",
            "<ipython-input-23-bb9bfb2e8b28>:10: SettingWithCopyWarning: \n",
            "A value is trying to be set on a copy of a slice from a DataFrame.\n",
            "Try using .loc[row_indexer,col_indexer] = value instead\n",
            "\n",
            "See the caveats in the documentation: https://pandas.pydata.org/pandas-docs/stable/user_guide/indexing.html#returning-a-view-versus-a-copy\n",
            "  aggregated_data_filtered['summary_token_count'] = aggregated_data_filtered['summary'].apply(lambda x: count_tokens(x, tokenizer))\n"
          ]
        },
        {
          "name": "stdout",
          "output_type": "stream",
          "text": [
            "       text_token_count  summary_token_count\n",
            "count     163894.000000        163894.000000\n",
            "mean        1573.747800            31.936831\n",
            "std         2090.994961            16.954065\n",
            "min            1.000000             1.000000\n",
            "25%          455.000000            22.000000\n",
            "50%          873.000000            29.000000\n",
            "75%         1836.000000            39.000000\n",
            "max        95691.000000           906.000000\n",
            "         text_length  summary_length  text_word_count  summary_word_count\n",
            "count  163894.000000   163894.000000    163894.000000       163894.000000\n",
            "mean     2457.937075       49.213400       480.190452            9.189787\n",
            "std      3284.544448       24.928872       650.188500            5.041845\n",
            "min         1.000000        1.000000         0.000000            0.000000\n",
            "25%       704.000000       35.000000       134.000000            6.000000\n",
            "50%      1357.000000       46.000000       260.000000            8.000000\n",
            "75%      2863.000000       59.000000       562.000000           11.000000\n",
            "max    150909.000000     1421.000000     30979.000000          281.000000\n",
            "Most common words:  [('፡', 2027565), ('ላይ', 739550), ('ነው', 730767), ('፣', 717241), ('።', 699664), (',', 547740), ('እና', 416356), ('፤', 351577), ('ውስጥ', 325445), ('ወደ', 320512)]\n"
          ]
        }
      ],
      "source": [
        "# Statistical analysis of the dataset\n",
        "aggregated_data_filtered['text_length'] = aggregated_data_filtered['text'].apply(len)\n",
        "aggregated_data_filtered['summary_length'] = aggregated_data_filtered['summary'].apply(len)\n",
        "\n",
        "# Word counts\n",
        "aggregated_data_filtered['text_word_count'] = aggregated_data_filtered['text'].apply(lambda x: len(x.split()))\n",
        "aggregated_data_filtered['summary_word_count'] = aggregated_data_filtered['summary'].apply(lambda x: len(x.split()))\n",
        "\n",
        "# Token counts\n",
        "aggregated_data_filtered['text_token_count'] = aggregated_data_filtered['text'].apply(lambda x: count_tokens(x, tokenizer))\n",
        "aggregated_data_filtered['summary_token_count'] = aggregated_data_filtered['summary'].apply(lambda x: count_tokens(x, tokenizer))\n",
        "\n",
        "# Descriptive statistics\n",
        "print(aggregated_data_filtered[['text_length', 'summary_length', 'text_word_count', 'summary_word_count', 'text_token_count', 'summary_token_count']].describe())\n",
        "\n",
        "# Counting most common words\n",
        "all_words = ' '.join(aggregated_data_filtered['text']).split()\n",
        "word_counts = Counter(all_words)\n",
        "print(\"Most common words: \", word_counts.most_common(10))"
      ]
    },
    {
      "cell_type": "code",
      "execution_count": null,
      "metadata": {
        "colab": {
          "base_uri": "https://localhost:8080/",
          "height": 607
        },
        "id": "qopQGWUi2pil",
        "outputId": "01604eef-6270-4181-d9a9-0652d8a267ad"
      },
      "outputs": [
        {
          "data": {
            "image/png": "[encoded data removed]",
            "text/plain": [
              "<Figure size 1200x600 with 2 Axes>"
            ]
          },
          "metadata": {},
          "output_type": "display_data"
        }
      ],
      "source": [
        "# Visualizing the distribution of the token counts for both the texts and summaries\n",
        "\n",
        "# Extracting token counts\n",
        "text_token_counts = aggregated_data_filtered['text_token_count']\n",
        "summary_token_counts = aggregated_data_filtered['summary_token_count']\n",
        "\n",
        "# Determining the upper limit for the x-axis\n",
        "upper_limit_text = max(text_token_counts) + 5\n",
        "upper_limit_summary = max(summary_token_counts) + 5\n",
        "\n",
        "# Plotting histograms\n",
        "plt.figure(figsize=(12, 6))\n",
        "\n",
        "# Histogram for text token counts\n",
        "plt.subplot(1, 2, 1)  # 1 row, 2 columns, first plot\n",
        "plt.hist(text_token_counts, bins=60, color='blue', alpha=0.7)\n",
        "plt.title('Distribution of Text Token Counts')\n",
        "plt.xlabel('Token Count')\n",
        "plt.ylabel('Frequency')\n",
        "plt.xlim(0, upper_limit_text)\n",
        "\n",
        "# Histogram for summary token counts\n",
        "plt.subplot(1, 2, 2)\n",
        "plt.hist(summary_token_counts, bins=60, color='green', alpha=0.7)\n",
        "plt.title('Distribution of Summary Token Counts')\n",
        "plt.xlabel('Token Count')\n",
        "plt.ylabel('Frequency')\n",
        "plt.xlim(0, upper_limit_summary)\n",
        "\n",
        "# Show the plots\n",
        "plt.tight_layout()\n",
        "plt.show()"
      ]
    },
    {
      "cell_type": "code",
      "execution_count": null,
      "metadata": {
        "colab": {
          "base_uri": "https://localhost:8080/",
          "height": 607
        },
        "id": "2LAYXC_OcrTp",
        "outputId": "478c333c-8039-4b23-d030-6667cfce9244"
      },
      "outputs": [
        {
          "data": {
            "image/png": "[encoded data removed]",
            "text/plain": [
              "<Figure size 1200x600 with 2 Axes>"
            ]
          },
          "metadata": {},
          "output_type": "display_data"
        }
      ],
      "source": [
        "# Plotting boxplots\n",
        "plt.figure(figsize=(12, 6))\n",
        "\n",
        "# Boxplot for text token counts\n",
        "plt.subplot(1, 2, 1)\n",
        "plt.boxplot(text_token_counts)\n",
        "plt.title('Boxplot of Text Token Counts')\n",
        "plt.xlabel('Text Token Count')\n",
        "plt.ylabel('Frequency')\n",
        "\n",
        "# Boxplot for summary token counts\n",
        "plt.subplot(1, 2, 2)\n",
        "plt.boxplot(summary_token_counts)\n",
        "plt.title('Boxplot of Summary Token Counts')\n",
        "plt.xlabel('Summary Token Count')\n",
        "plt.ylabel('Frequency')\n",
        "\n",
        "# Show the plots\n",
        "plt.tight_layout()\n",
        "plt.show()"
      ]
    },
    {
      "cell_type": "code",
      "execution_count": null,
      "metadata": {
        "id": "13gdhOx7TGrG"
      },
      "outputs": [],
      "source": [
        "# Saving Amharic-1\n",
        "\n",
        "# Splitting the dataset\n",
        "# 80% training, 10% validation, 10% testing\n",
        "train, temp = train_test_split(aggregated_data_filtered, test_size=0.20, random_state=16)\n",
        "valid, test = train_test_split(temp, test_size=0.50, random_state=16)\n",
        "\n",
        "# Save them to different CSVs\n",
        "train.to_csv(folder_path + 'amharic_1_train.csv', index=False)\n",
        "valid.to_csv(folder_path + 'amharic_1_valid.csv', index=False)\n",
        "test.to_csv(folder_path + 'amharic_1_test.csv', index=False)\n",
        "\n",
        "# Also saving everything to one file to make it available together\n",
        "aggregated_data_filtered.to_csv(folder_path + 'amharic_1_all.csv', index=False)"
      ]
    },
    {
      "cell_type": "markdown",
      "metadata": {
        "id": "Kuajma1ZWfZL"
      },
      "source": [
        "## Preparing Amharic-2\n",
        "\n",
        "Following the initial cleaning steps, the first version of the benchmark dataset (i.e., Amharic-1) was created. A second version of the dataset (i.e., Amharic-2) is then created through the following code by applying further filters based on the lengths of the entries, a decision informed by the initial fine-tuning outcomes using Amharic-1. To address the substantial standard deviation in entry lengths, reasonable upper and lower bounds were established for both the texts and their summaries."
      ]
    },
    {
      "cell_type": "code",
      "execution_count": null,
      "metadata": {
        "colab": {
          "base_uri": "https://localhost:8080/"
        },
        "id": "FupmSlVEGJfH",
        "outputId": "9b3d9476-9894-4cd9-cec4-bf5a28ee5fbf"
      },
      "outputs": [
        {
          "name": "stdout",
          "output_type": "stream",
          "text": [
            "                                                text  \\\n",
            "0  ባለአምስት ኮከብ ሆቴል ስፔሻላይዝድ ሆስፒታልና የተለያዩ ግዙፍ አገልግሎት...   \n",
            "1  የግል ባንኮች የተቀማጭ ገንዘብ በአንድ አመት ውስጥ በ276 በመቶ በመጨመ...   \n",
            "2  በተጠርጣሪዎቹ ላይ የ14 ቀናት ምርመራ ጊዜ ተፈቅዷል ጠቅላይ ሚኒስትር አ...   \n",
            "3  ከ2006 አም ጀምሮ የፌዴራል ከፍተኛ ፍርድ ቤት በዳኝነት ሲያገለግሉ የቆ...   \n",
            "6   100ሺ መለስተኛ ሙያ ያላቸው ዜጎችም የስራ እድሉ ተጠቃሚ ይሆናሉ አዲስ...   \n",
            "\n",
            "                                             summary  is_non_amharic_text  \\\n",
            "0  የአገልግሎት መስጫ ተቋማት ለመገንባት መሬት የጠየቁ በልዩ ሊዝ ተስተናገዱ...                False   \n",
            "1                 የግል ባንኮች ተቀማጭ ገንዘብ 124 ቢሊዮን ብር ደረሰ                False   \n",
            "2  በቦምብ ፍንዳታው ምክንያት ኃላፊነታቸውን አልተወጡም የተባሉ ተጠርጣሪዎች ...                False   \n",
            "3          ለሕገ መንግሥቱ ታማኝ አይደሉም የተባሉት ዳኛ ከኃላፊነታቸው ተነሱ                False   \n",
            "6      በመስኖ ልማት ለአሥራ ሁለት ሺ የተማሩ ወጣቶች የሥራ ዕድል ሊፈጠር ነው                False   \n",
            "\n",
            "   is_non_amharic_summary  text_length  summary_length  text_word_count  \\\n",
            "0                   False         2601              58              489   \n",
            "1                   False         1553              34              328   \n",
            "2                   False         3568              56              683   \n",
            "3                   False         6610              41             1268   \n",
            "6                   False         2465              45              476   \n",
            "\n",
            "   summary_word_count  text_token_count  summary_token_count  \n",
            "0                  11              1704                   38  \n",
            "1                   8               981                   25  \n",
            "2                  10              2278                   38  \n",
            "3                   8              4092                   28  \n",
            "6                  11              1581                   32  \n"
          ]
        }
      ],
      "source": [
        "# Preparing Amharic-2\n",
        "\n",
        "# Setting thresholds for further refinement\n",
        "min_text_word_count = 50\n",
        "max_text_word_count = 1500\n",
        "min_summary_word_count = 7 # A summary with less than 7 words does not capture much\n",
        "\n",
        "# Applying the filters based on the thresholds\n",
        "# The main goal behind this is to reduce the standard deviation in the token counts of the different entries\n",
        "aggregated_data_filtered_further_cleaned = aggregated_data_filtered[\n",
        "    (aggregated_data_filtered['text_word_count'] >= min_text_word_count) &\n",
        "    (aggregated_data_filtered['text_word_count'] <= max_text_word_count) &\n",
        "    (aggregated_data_filtered['summary_word_count'] >= min_summary_word_count) &\n",
        "    (aggregated_data_filtered['summary_word_count'] <= aggregated_data_filtered['text_word_count'])\n",
        "]\n",
        "\n",
        "# Displaying the first few rows of the filtered DataFrame\n",
        "print(aggregated_data_filtered_further_cleaned.head())"
      ]
    },
    {
      "cell_type": "code",
      "execution_count": null,
      "metadata": {
        "id": "WPjYsoJufbX7"
      },
      "outputs": [],
      "source": [
        "# Removing entries where texts have more than 2048 tokens\n",
        "aggregated_data_filtered_further_cleaned = aggregated_data_filtered_further_cleaned[aggregated_data_filtered_further_cleaned['text_token_count'] <= 2048]"
      ]
    },
    {
      "cell_type": "code",
      "execution_count": null,
      "metadata": {
        "colab": {
          "base_uri": "https://localhost:8080/",
          "height": 607
        },
        "id": "xGPOgIw5fIeJ",
        "outputId": "a7ba5d63-f76c-4be1-d41b-a92cbb7a9bea"
      },
      "outputs": [
        {
          "data": {
            "image/png": "[encoded data removed]",
            "text/plain": [
              "<Figure size 1200x600 with 2 Axes>"
            ]
          },
          "metadata": {},
          "output_type": "display_data"
        }
      ],
      "source": [
        "# Extracting token counts\n",
        "text_token_counts = aggregated_data_filtered_further_cleaned['text_token_count']\n",
        "summary_token_counts = aggregated_data_filtered_further_cleaned['summary_token_count']\n",
        "\n",
        "# Plotting histograms\n",
        "plt.figure(figsize=(12, 6))\n",
        "\n",
        "# Histogram for text token counts\n",
        "plt.subplot(1, 2, 1)\n",
        "plt.hist(text_token_counts, bins=60, color='blue', alpha=0.7)\n",
        "plt.title('Distribution of Text Token Counts')\n",
        "plt.xlabel('Token Count')\n",
        "plt.ylabel('Frequency')\n",
        "\n",
        "# Histogram for summary token counts\n",
        "plt.subplot(1, 2, 2)\n",
        "plt.hist(summary_token_counts, bins=60, color='green', alpha=0.7)\n",
        "plt.title('Distribution of Summary Token Counts')\n",
        "plt.xlabel('Token Count')\n",
        "plt.ylabel('Frequency')\n",
        "\n",
        "# Show the plots\n",
        "plt.tight_layout()\n",
        "plt.show()"
      ]
    },
    {
      "cell_type": "code",
      "execution_count": null,
      "metadata": {
        "colab": {
          "base_uri": "https://localhost:8080/",
          "height": 607
        },
        "id": "LkGs0eGyc8xR",
        "outputId": "e84ce5b1-84b7-4bc6-df71-9d6a91188cb6"
      },
      "outputs": [
        {
          "data": {
            "image/png": "[encoded data removed]",
            "text/plain": [
              "<Figure size 1200x600 with 2 Axes>"
            ]
          },
          "metadata": {},
          "output_type": "display_data"
        }
      ],
      "source": [
        "# Plotting boxplots\n",
        "plt.figure(figsize=(12, 6))\n",
        "\n",
        "# Boxplot for text token counts\n",
        "plt.subplot(1, 2, 1)\n",
        "plt.boxplot(text_token_counts)\n",
        "plt.title('Boxplot of Text Token Counts')\n",
        "plt.xlabel('Text Token Count')\n",
        "plt.ylabel('Frequency')\n",
        "\n",
        "# Boxplot for summary token counts\n",
        "plt.subplot(1, 2, 2)\n",
        "plt.boxplot(summary_token_counts)\n",
        "plt.title('Boxplot of Summary Token Counts')\n",
        "plt.xlabel('Summary Token Count')\n",
        "plt.ylabel('Frequency')\n",
        "\n",
        "# Show the plots\n",
        "plt.tight_layout()\n",
        "plt.show()"
      ]
    },
    {
      "cell_type": "code",
      "execution_count": null,
      "metadata": {
        "colab": {
          "base_uri": "https://localhost:8080/"
        },
        "id": "kHYcSHZBGcOo",
        "outputId": "b02bc364-176d-43d7-dc56-cfea25ac681f"
      },
      "outputs": [
        {
          "name": "stdout",
          "output_type": "stream",
          "text": [
            "        text_length  summary_length  text_word_count  summary_word_count  \\\n",
            "count  91406.000000    91406.000000     91406.000000        91406.000000   \n",
            "mean    1273.221441       56.664497       244.680163           11.008796   \n",
            "std      713.313864       23.765639       138.850029            4.593633   \n",
            "min      207.000000       19.000000        50.000000            7.000000   \n",
            "25%      705.000000       42.000000       134.000000            8.000000   \n",
            "50%     1120.000000       52.000000       214.000000           10.000000   \n",
            "75%     1708.000000       64.000000       328.000000           12.000000   \n",
            "max     4473.000000      885.000000       743.000000          176.000000   \n",
            "\n",
            "       text_token_count  summary_token_count  \n",
            "count      91406.000000         91406.000000  \n",
            "mean         818.361245            37.742719  \n",
            "std          455.330450            15.782509  \n",
            "min          129.000000            15.000000  \n",
            "25%          454.000000            28.000000  \n",
            "50%          721.000000            34.000000  \n",
            "75%         1096.000000            43.000000  \n",
            "max         2048.000000           583.000000  \n",
            "Most common words:  [('ላይ', 240715), ('፡', 217526), (',', 183364), ('።', 163366), ('እና', 142168), ('ነው', 137217), ('፣', 135529), ('ወደ', 104764), ('ውስጥ', 90648), ('ጋር', 90224)]\n"
          ]
        }
      ],
      "source": [
        "# Looking at the statistics again after further cleaning\n",
        "\n",
        "# Descriptive statistics\n",
        "print(aggregated_data_filtered_further_cleaned[['text_length', 'summary_length', 'text_word_count', 'summary_word_count', 'text_token_count', 'summary_token_count']].describe())\n",
        "\n",
        "# Counting most common words\n",
        "all_words = ' '.join(aggregated_data_filtered_further_cleaned['text']).split()\n",
        "word_counts = Counter(all_words)\n",
        "print(\"Most common words: \", word_counts.most_common(10))"
      ]
    },
    {
      "cell_type": "code",
      "execution_count": null,
      "metadata": {
        "id": "pLjgOAShfFZF"
      },
      "outputs": [],
      "source": [
        "# Saving Amharic-2\n",
        "\n",
        "# Randomly splitting the dataset\n",
        "# 80% training, 10% validation, 10% testing\n",
        "train, temp = train_test_split(aggregated_data_filtered_further_cleaned, test_size=0.20, random_state=16)\n",
        "valid, test = train_test_split(temp, test_size=0.50, random_state=16)\n",
        "\n",
        "# Save them to different CSVs\n",
        "train.to_csv(folder_path + 'amharic_2_train.csv', index=False)\n",
        "valid.to_csv(folder_path + 'amharic_2_valid.csv', index=False)\n",
        "test.to_csv(folder_path + 'amharic_2_test.csv', index=False)\n",
        "\n",
        "# Also saving everything to one file to make it available together\n",
        "aggregated_data_filtered_further_cleaned.to_csv(folder_path + 'amharic_2_all.csv', index=False)"
      ]
    },
    {
      "cell_type": "markdown",
      "metadata": {
        "id": "-myPGt4bY70r"
      },
      "source": [
        "## Preparing Amharic-3\n",
        "\n",
        "The third dataset (i.e., Amharic-3) was then derived by refining the Amharic-2 version through additional cleaning iterations. The following code performs these refinements, and they were guided by established practices in Amharic text preprocessing, utilizing some predefined functions. The justification behind the creation this version as well as the results of using this dataset are outlined in detail in the final report."
      ]
    },
    {
      "cell_type": "code",
      "execution_count": null,
      "metadata": {
        "id": "8ZSFl35hA_nx"
      },
      "outputs": [],
      "source": [
        "# Load each Amharic-2 dataset from CSV\n",
        "# All of these files were saved to the same directory all the raw data files are saved and made available\n",
        "# The path can be updated to wherever these datafiles are stored if that has changed\n",
        "train_df = pd.read_csv(folder_path + 'amharic_2_train.csv')\n",
        "valid_df = pd.read_csv(folder_path + 'amharic_2_valid.csv')\n",
        "test_df = pd.read_csv(folder_path + 'amharic_2_test.csv')\n",
        "\n",
        "# Concatenate them back into one DataFrame\n",
        "aggregated_data_filtered_further_cleaned = pd.concat([train_df, valid_df, test_df], ignore_index=True)"
      ]
    },
    {
      "cell_type": "code",
      "execution_count": null,
      "metadata": {
        "id": "8WWbnwu7FnMj"
      },
      "outputs": [],
      "source": [
        "# Creating Normalized Data\n",
        "# The following three functions are taken from: https://abe2g.github.io/am-preprocess.html\n",
        "# The full source is cited in detail in the final report\n",
        "# They are created by an individual who has worked on Amharic text preprocessing\n",
        "\n",
        "def normalize_char_level_missmatch(input_token):\n",
        "  '''\n",
        "    Normalize variations of Amharic characters in a given token to standardize them.\n",
        "\n",
        "    Args:\n",
        "        input_token (str): The Amharic token to be normalized.\n",
        "\n",
        "    Returns:\n",
        "        str: The normalized Amharic token.\n",
        "  '''\n",
        "\n",
        "  rep1=re.sub('[ሃኅኃሐሓኻ]','ሀ',input_token)\n",
        "  rep2=re.sub('[ሑኁዅ]','ሁ',rep1)\n",
        "  rep3=re.sub('[ኂሒኺ]','ሂ',rep2)\n",
        "  rep4=re.sub('[ኌሔዄ]','ሄ',rep3)\n",
        "  rep5=re.sub('[ሕኅ]','ህ',rep4)\n",
        "  rep6=re.sub('[ኆሖኾ]','ሆ',rep5)\n",
        "  rep7=re.sub('[ሠ]','ሰ',rep6)\n",
        "  rep8=re.sub('[ሡ]','ሱ',rep7)\n",
        "  rep9=re.sub('[ሢ]','ሲ',rep8)\n",
        "  rep10=re.sub('[ሣ]','ሳ',rep9)\n",
        "  rep11=re.sub('[ሤ]','ሴ',rep10)\n",
        "  rep12=re.sub('[ሥ]','ስ',rep11)\n",
        "  rep13=re.sub('[ሦ]','ሶ',rep12)\n",
        "  rep14=re.sub('[ዓኣዐ]','አ',rep13)\n",
        "  rep15=re.sub('[ዑ]','ኡ',rep14)\n",
        "  rep16=re.sub('[ዒ]','ኢ',rep15)\n",
        "  rep17=re.sub('[ዔ]','ኤ',rep16)\n",
        "  rep18=re.sub('[ዕ]','እ',rep17)\n",
        "  rep19=re.sub('[ዖ]','ኦ',rep18)\n",
        "  rep20=re.sub('[ጸ]','ፀ',rep19)\n",
        "  rep21=re.sub('[ጹ]','ፁ',rep20)\n",
        "  rep22=re.sub('[ጺ]','ፂ',rep21)\n",
        "  rep23=re.sub('[ጻ]','ፃ',rep22)\n",
        "  rep24=re.sub('[ጼ]','ፄ',rep23)\n",
        "  rep25=re.sub('[ጽ]','ፅ',rep24)\n",
        "  rep26=re.sub('[ጾ]','ፆ',rep25)\n",
        "\n",
        "  #Normalizing words with Labialized Amharic characters such as በልቱዋል or  በልቱአል to  በልቷል\n",
        "  rep27=re.sub('(ሉ[ዋአ])','ሏ',rep26)\n",
        "  rep28=re.sub('(ሙ[ዋአ])','ሟ',rep27)\n",
        "  rep29=re.sub('(ቱ[ዋአ])','ቷ',rep28)\n",
        "  rep30=re.sub('(ሩ[ዋአ])','ሯ',rep29)\n",
        "  rep31=re.sub('(ሱ[ዋአ])','ሷ',rep30)\n",
        "  rep32=re.sub('(ሹ[ዋአ])','ሿ',rep31)\n",
        "  rep33=re.sub('(ቁ[ዋአ])','ቋ',rep32)\n",
        "  rep34=re.sub('(ቡ[ዋአ])','ቧ',rep33)\n",
        "  rep35=re.sub('(ቹ[ዋአ])','ቿ',rep34)\n",
        "  rep36=re.sub('(ሁ[ዋአ])','ኋ',rep35)\n",
        "  rep37=re.sub('(ኑ[ዋአ])','ኗ',rep36)\n",
        "  rep38=re.sub('(ኙ[ዋአ])','ኟ',rep37)\n",
        "  rep39=re.sub('(ኩ[ዋአ])','ኳ',rep38)\n",
        "  rep40=re.sub('(ዙ[ዋአ])','ዟ',rep39)\n",
        "  rep41=re.sub('(ጉ[ዋአ])','ጓ',rep40)\n",
        "  rep42=re.sub('(ደ[ዋአ])','ዷ',rep41)\n",
        "  rep43=re.sub('(ጡ[ዋአ])','ጧ',rep42)\n",
        "  rep44=re.sub('(ጩ[ዋአ])','ጯ',rep43)\n",
        "  rep45=re.sub('(ጹ[ዋአ])','ጿ',rep44)\n",
        "  rep46=re.sub('(ፉ[ዋአ])','ፏ',rep45)\n",
        "  rep47=re.sub('[ቊ]','ቁ',rep46) #ቁ can be written as ቊ\n",
        "  rep48=re.sub('[ኵ]','ኩ',rep47) #ኩ can be also written as ኵ\n",
        "  return rep48\n",
        "\n",
        "# :: No longer removed\n",
        "def remove_punc_and_special_chars(text):\n",
        "  '''\n",
        "    Remove punctuation and special characters from a given text.\n",
        "\n",
        "    Args:\n",
        "        text (str): The text from which to remove punctuation and special characters.\n",
        "\n",
        "    Returns:\n",
        "        str: The text stripped of punctuation and special characters.\n",
        "  '''\n",
        "\n",
        "  normalized_text = re.sub('[\\!\\@\\#\\$\\%\\^\\«\\»\\&\\*\\(\\)\\…\\[\\]\\{\\}\\;\\“\\”\\›\\’\\‘\\\"\\'\\:\\,\\.\\‹\\/\\<\\>\\?\\\\\\\\|\\`\\´\\~\\-\\=\\+\\፡\\፤\\;\\፦\\፥\\፧\\፨\\፠\\፣]', '',text)\n",
        "  return normalized_text\n",
        "\n",
        "# Remove all ascii characters\n",
        "def remove_ascii_and_numbers(text_input):\n",
        "  '''\n",
        "    Remove ASCII characters and numbers from the given text.\n",
        "\n",
        "    Args:\n",
        "        text_input (str): The text from which to remove ASCII characters and numbers.\n",
        "\n",
        "    Returns:\n",
        "        str: The text without any ASCII characters and numbers.\n",
        "  '''\n",
        "\n",
        "  return re.sub('[A-Za-z]','',text_input)"
      ]
    },
    {
      "cell_type": "code",
      "execution_count": null,
      "metadata": {
        "colab": {
          "base_uri": "https://localhost:8080/",
          "height": 300
        },
        "id": "cKGlSipfAMPV",
        "outputId": "c33ef50c-6772-46c4-ef22-3d6aa06088e4"
      },
      "outputs": [
        {
          "data": {
            "text/html": [
              "\n",
              "  <div id=\"df-e01c92be-82fa-4ed4-a6fc-1d345f8c0611\" class=\"colab-df-container\">\n",
              "    <div>\n",
              "<style scoped>\n",
              "    .dataframe tbody tr th:only-of-type {\n",
              "        vertical-align: middle;\n",
              "    }\n",
              "\n",
              "    .dataframe tbody tr th {\n",
              "        vertical-align: top;\n",
              "    }\n",
              "\n",
              "    .dataframe thead th {\n",
              "        text-align: right;\n",
              "    }\n",
              "</style>\n",
              "<table border=\"1\" class=\"dataframe\">\n",
              "  <thead>\n",
              "    <tr style=\"text-align: right;\">\n",
              "      <th></th>\n",
              "      <th>text_token_count</th>\n",
              "      <th>summary_token_count</th>\n",
              "    </tr>\n",
              "  </thead>\n",
              "  <tbody>\n",
              "    <tr>\n",
              "      <th>count</th>\n",
              "      <td>91406.000000</td>\n",
              "      <td>91406.000000</td>\n",
              "    </tr>\n",
              "    <tr>\n",
              "      <th>mean</th>\n",
              "      <td>794.655252</td>\n",
              "      <td>36.984684</td>\n",
              "    </tr>\n",
              "    <tr>\n",
              "      <th>std</th>\n",
              "      <td>439.623062</td>\n",
              "      <td>15.372627</td>\n",
              "    </tr>\n",
              "    <tr>\n",
              "      <th>min</th>\n",
              "      <td>96.000000</td>\n",
              "      <td>9.000000</td>\n",
              "    </tr>\n",
              "    <tr>\n",
              "      <th>25%</th>\n",
              "      <td>443.000000</td>\n",
              "      <td>28.000000</td>\n",
              "    </tr>\n",
              "    <tr>\n",
              "      <th>50%</th>\n",
              "      <td>703.000000</td>\n",
              "      <td>33.000000</td>\n",
              "    </tr>\n",
              "    <tr>\n",
              "      <th>75%</th>\n",
              "      <td>1066.000000</td>\n",
              "      <td>42.000000</td>\n",
              "    </tr>\n",
              "    <tr>\n",
              "      <th>max</th>\n",
              "      <td>2048.000000</td>\n",
              "      <td>569.000000</td>\n",
              "    </tr>\n",
              "  </tbody>\n",
              "</table>\n",
              "</div>\n",
              "    <div class=\"colab-df-buttons\">\n",
              "\n",
              "  <div class=\"colab-df-container\">\n",
              "    <button class=\"colab-df-convert\" onclick=\"convertToInteractive('df-e01c92be-82fa-4ed4-a6fc-1d345f8c0611')\"\n",
              "            title=\"Convert this dataframe to an interactive table.\"\n",
              "            style=\"display:none;\">\n",
              "\n",
              "  <svg xmlns=\"http://www.w3.org/2000/svg\" height=\"24px\" viewBox=\"0 -960 960 960\">\n",
              "    <path d=\"M120-120v-720h720v720H120Zm60-500h600v-160H180v160Zm220 220h160v-160H400v160Zm0 220h160v-160H400v160ZM180-400h160v-160H180v160Zm440 0h160v-160H620v160ZM180-180h160v-160H180v160Zm440 0h160v-160H620v160Z\"/>\n",
              "  </svg>\n",
              "    </button>\n",
              "\n",
              "  <style>\n",
              "    .colab-df-container {\n",
              "      display:flex;\n",
              "      gap: 12px;\n",
              "    }\n",
              "\n",
              "    .colab-df-convert {\n",
              "      background-color: #E8F0FE;\n",
              "      border: none;\n",
              "      border-radius: 50%;\n",
              "      cursor: pointer;\n",
              "      display: none;\n",
              "      fill: #1967D2;\n",
              "      height: 32px;\n",
              "      padding: 0 0 0 0;\n",
              "      width: 32px;\n",
              "    }\n",
              "\n",
              "    .colab-df-convert:hover {\n",
              "      background-color: #E2EBFA;\n",
              "      box-shadow: 0px 1px 2px rgba(60, 64, 67, 0.3), 0px 1px 3px 1px rgba(60, 64, 67, 0.15);\n",
              "      fill: #174EA6;\n",
              "    }\n",
              "\n",
              "    .colab-df-buttons div {\n",
              "      margin-bottom: 4px;\n",
              "    }\n",
              "\n",
              "    [theme=dark] .colab-df-convert {\n",
              "      background-color: #3B4455;\n",
              "      fill: #D2E3FC;\n",
              "    }\n",
              "\n",
              "    [theme=dark] .colab-df-convert:hover {\n",
              "      background-color: #434B5C;\n",
              "      box-shadow: 0px 1px 3px 1px rgba(0, 0, 0, 0.15);\n",
              "      filter: drop-shadow(0px 1px 2px rgba(0, 0, 0, 0.3));\n",
              "      fill: #FFFFFF;\n",
              "    }\n",
              "  </style>\n",
              "\n",
              "    <script>\n",
              "      const buttonEl =\n",
              "        document.querySelector('#df-e01c92be-82fa-4ed4-a6fc-1d345f8c0611 button.colab-df-convert');\n",
              "      buttonEl.style.display =\n",
              "        google.colab.kernel.accessAllowed ? 'block' : 'none';\n",
              "\n",
              "      async function convertToInteractive(key) {\n",
              "        const element = document.querySelector('#df-e01c92be-82fa-4ed4-a6fc-1d345f8c0611');\n",
              "        const dataTable =\n",
              "          await google.colab.kernel.invokeFunction('convertToInteractive',\n",
              "                                                    [key], {});\n",
              "        if (!dataTable) return;\n",
              "\n",
              "        const docLinkHtml = 'Like what you see? Visit the ' +\n",
              "          '<a target=\"_blank\" href=https://colab.research.google.com/notebooks/data_table.ipynb>data table notebook</a>'\n",
              "          + ' to learn more about interactive tables.';\n",
              "        element.innerHTML = '';\n",
              "        dataTable['output_type'] = 'display_data';\n",
              "        await google.colab.output.renderOutput(dataTable, element);\n",
              "        const docLink = document.createElement('div');\n",
              "        docLink.innerHTML = docLinkHtml;\n",
              "        element.appendChild(docLink);\n",
              "      }\n",
              "    </script>\n",
              "  </div>\n",
              "\n",
              "\n",
              "<div id=\"df-c3b332b6-2246-47cf-a0c5-c7b8684c1e3b\">\n",
              "  <button class=\"colab-df-quickchart\" onclick=\"quickchart('df-c3b332b6-2246-47cf-a0c5-c7b8684c1e3b')\"\n",
              "            title=\"Suggest charts\"\n",
              "            style=\"display:none;\">\n",
              "\n",
              "<svg xmlns=\"http://www.w3.org/2000/svg\" height=\"24px\"viewBox=\"0 0 24 24\"\n",
              "     width=\"24px\">\n",
              "    <g>\n",
              "        <path d=\"M19 3H5c-1.1 0-2 .9-2 2v14c0 1.1.9 2 2 2h14c1.1 0 2-.9 2-2V5c0-1.1-.9-2-2-2zM9 17H7v-7h2v7zm4 0h-2V7h2v10zm4 0h-2v-4h2v4z\"/>\n",
              "    </g>\n",
              "</svg>\n",
              "  </button>\n",
              "\n",
              "<style>\n",
              "  .colab-df-quickchart {\n",
              "      --bg-color: #E8F0FE;\n",
              "      --fill-color: #1967D2;\n",
              "      --hover-bg-color: #E2EBFA;\n",
              "      --hover-fill-color: #174EA6;\n",
              "      --disabled-fill-color: #AAA;\n",
              "      --disabled-bg-color: #DDD;\n",
              "  }\n",
              "\n",
              "  [theme=dark] .colab-df-quickchart {\n",
              "      --bg-color: #3B4455;\n",
              "      --fill-color: #D2E3FC;\n",
              "      --hover-bg-color: #434B5C;\n",
              "      --hover-fill-color: #FFFFFF;\n",
              "      --disabled-bg-color: #3B4455;\n",
              "      --disabled-fill-color: #666;\n",
              "  }\n",
              "\n",
              "  .colab-df-quickchart {\n",
              "    background-color: var(--bg-color);\n",
              "    border: none;\n",
              "    border-radius: 50%;\n",
              "    cursor: pointer;\n",
              "    display: none;\n",
              "    fill: var(--fill-color);\n",
              "    height: 32px;\n",
              "    padding: 0;\n",
              "    width: 32px;\n",
              "  }\n",
              "\n",
              "  .colab-df-quickchart:hover {\n",
              "    background-color: var(--hover-bg-color);\n",
              "    box-shadow: 0 1px 2px rgba(60, 64, 67, 0.3), 0 1px 3px 1px rgba(60, 64, 67, 0.15);\n",
              "    fill: var(--button-hover-fill-color);\n",
              "  }\n",
              "\n",
              "  .colab-df-quickchart-complete:disabled,\n",
              "  .colab-df-quickchart-complete:disabled:hover {\n",
              "    background-color: var(--disabled-bg-color);\n",
              "    fill: var(--disabled-fill-color);\n",
              "    box-shadow: none;\n",
              "  }\n",
              "\n",
              "  .colab-df-spinner {\n",
              "    border: 2px solid var(--fill-color);\n",
              "    border-color: transparent;\n",
              "    border-bottom-color: var(--fill-color);\n",
              "    animation:\n",
              "      spin 1s steps(1) infinite;\n",
              "  }\n",
              "\n",
              "  @keyframes spin {\n",
              "    0% {\n",
              "      border-color: transparent;\n",
              "      border-bottom-color: var(--fill-color);\n",
              "      border-left-color: var(--fill-color);\n",
              "    }\n",
              "    20% {\n",
              "      border-color: transparent;\n",
              "      border-left-color: var(--fill-color);\n",
              "      border-top-color: var(--fill-color);\n",
              "    }\n",
              "    30% {\n",
              "      border-color: transparent;\n",
              "      border-left-color: var(--fill-color);\n",
              "      border-top-color: var(--fill-color);\n",
              "      border-right-color: var(--fill-color);\n",
              "    }\n",
              "    40% {\n",
              "      border-color: transparent;\n",
              "      border-right-color: var(--fill-color);\n",
              "      border-top-color: var(--fill-color);\n",
              "    }\n",
              "    60% {\n",
              "      border-color: transparent;\n",
              "      border-right-color: var(--fill-color);\n",
              "    }\n",
              "    80% {\n",
              "      border-color: transparent;\n",
              "      border-right-color: var(--fill-color);\n",
              "      border-bottom-color: var(--fill-color);\n",
              "    }\n",
              "    90% {\n",
              "      border-color: transparent;\n",
              "      border-bottom-color: var(--fill-color);\n",
              "    }\n",
              "  }\n",
              "</style>\n",
              "\n",
              "  <script>\n",
              "    async function quickchart(key) {\n",
              "      const quickchartButtonEl =\n",
              "        document.querySelector('#' + key + ' button');\n",
              "      quickchartButtonEl.disabled = true;  // To prevent multiple clicks.\n",
              "      quickchartButtonEl.classList.add('colab-df-spinner');\n",
              "      try {\n",
              "        const charts = await google.colab.kernel.invokeFunction(\n",
              "            'suggestCharts', [key], {});\n",
              "      } catch (error) {\n",
              "        console.error('Error during call to suggestCharts:', error);\n",
              "      }\n",
              "      quickchartButtonEl.classList.remove('colab-df-spinner');\n",
              "      quickchartButtonEl.classList.add('colab-df-quickchart-complete');\n",
              "    }\n",
              "    (() => {\n",
              "      let quickchartButtonEl =\n",
              "        document.querySelector('#df-c3b332b6-2246-47cf-a0c5-c7b8684c1e3b button');\n",
              "      quickchartButtonEl.style.display =\n",
              "        google.colab.kernel.accessAllowed ? 'block' : 'none';\n",
              "    })();\n",
              "  </script>\n",
              "</div>\n",
              "    </div>\n",
              "  </div>\n"
            ],
            "text/plain": [
              "       text_token_count  summary_token_count\n",
              "count      91406.000000         91406.000000\n",
              "mean         794.655252            36.984684\n",
              "std          439.623062            15.372627\n",
              "min           96.000000             9.000000\n",
              "25%          443.000000            28.000000\n",
              "50%          703.000000            33.000000\n",
              "75%         1066.000000            42.000000\n",
              "max         2048.000000           569.000000"
            ]
          },
          "execution_count": 37,
          "metadata": {},
          "output_type": "execute_result"
        }
      ],
      "source": [
        "# Normalizing the text and summary columns using the three normalization functions\n",
        "aggregated_data_filtered_further_cleaned['text'] = aggregated_data_filtered_further_cleaned['text'].apply(\n",
        "    lambda x: remove_ascii_and_numbers(\n",
        "        remove_punc_and_special_chars(\n",
        "            normalize_char_level_missmatch(x))))\n",
        "\n",
        "aggregated_data_filtered_further_cleaned['summary'] = aggregated_data_filtered_further_cleaned['summary'].apply(\n",
        "    lambda x: remove_ascii_and_numbers(\n",
        "        remove_punc_and_special_chars(\n",
        "            normalize_char_level_missmatch(x))))\n",
        "\n",
        "# Updating the statistical columns following the normalization steps\n",
        "# Length of the text and summary\n",
        "aggregated_data_filtered_further_cleaned['text_length'] = aggregated_data_filtered_further_cleaned['text'].apply(len)\n",
        "aggregated_data_filtered_further_cleaned['summary_length'] = aggregated_data_filtered_further_cleaned['summary'].apply(len)\n",
        "\n",
        "# Word count in the text and summary\n",
        "aggregated_data_filtered_further_cleaned['text_word_count'] = aggregated_data_filtered_further_cleaned['text'].apply(lambda x: len(x.split()))\n",
        "aggregated_data_filtered_further_cleaned['summary_word_count'] = aggregated_data_filtered_further_cleaned['summary'].apply(lambda x: len(x.split()))\n",
        "\n",
        "# Token count in the text and summary\n",
        "aggregated_data_filtered_further_cleaned['text_token_count'] = aggregated_data_filtered_further_cleaned['text'].apply(lambda x: count_tokens(x, tokenizer))\n",
        "aggregated_data_filtered_further_cleaned['summary_token_count'] = aggregated_data_filtered_further_cleaned['summary'].apply(lambda x: count_tokens(x, tokenizer))\n",
        "\n",
        "# Showing descriptive statistics of the token counts\n",
        "aggregated_data_filtered_further_cleaned[['text_token_count', 'summary_token_count']].describe()"
      ]
    },
    {
      "cell_type": "code",
      "execution_count": null,
      "metadata": {
        "colab": {
          "base_uri": "https://localhost:8080/"
        },
        "id": "HSil7q9eC3kr",
        "outputId": "6067473c-fd77-4716-8707-8710f0fa1824"
      },
      "outputs": [
        {
          "name": "stdout",
          "output_type": "stream",
          "text": [
            "                                                 text  \\\n",
            "17  አዲስ አበባ መጋቢት 8 2012 ኤፍቢሲ ከ13 ሚሊየን ብር በላይ የሚገመቱ...   \n",
            "18  ከ9 አመታት በፊት ወደ ኢትዮጵያ ከመምጣቱ በፊት ዳዊት ድሪምስ በኤርትራ ...   \n",
            "19  የኢፌዴሪ ጠቅላይ ሚኒስትር አብይ አህመድ ከአሜሪካው ፕሬዝዳንት ዶናልድ ት...   \n",
            "23    ደረጃውን የጠበቀ የህክምና አገልግሎት የሚሰጥ ሆስፒታል በመቶ ሚሊየን ...   \n",
            "25  በሶሪያ አንድ ወር ሊሞላው የተቃረበውን የሰላም ስምምነት በሚጥስ ወገን ላ...   \n",
            "\n",
            "                                              summary  is_non_amharic_text  \\\n",
            "17              ከ13 ሚሊየን ብር በላይ የሚገመት የኮንትሮባንድ እቃ ተያዘ                False   \n",
            "18            ፈተናን ወደ መልካም የህይወት ትምህርት የቀየረው ዳዊት ድሪምስ                False   \n",
            "19  ጠቅላይ ሚኒስትር አብይ አህመድ ከአሜሪካው ፕሬዝዳንት ዶናልድ ትራምፕ ጋር...                False   \n",
            "23           ኢትዮጵያዊያን ሀኪሞች በሁለት ቢሊየን ብር ሆስፒታል ሊገነቡ ነው                False   \n",
            "25  በሶሪያን የሰላም ስምምነት በሚጥስ ወገን ላይ ብቸኛ እርምጃ እንደምትወስድ...                False   \n",
            "\n",
            "    is_non_amharic_summary  text_length  summary_length  text_word_count  \\\n",
            "17                   False          510              37               97   \n",
            "18                   False          435              39               82   \n",
            "19                   False          383              56               68   \n",
            "23                   False          323              40               58   \n",
            "25                   False          420              67               80   \n",
            "\n",
            "    summary_word_count  text_token_count  summary_token_count  \n",
            "17                   8               344                   25  \n",
            "18                   8               275                   30  \n",
            "19                  11               257                   43  \n",
            "23                   8               217                   26  \n",
            "25                  13               279                   44  \n"
          ]
        }
      ],
      "source": [
        "# Setting the thresholds for Amharic-3\n",
        "# The reason behind the selection of these values is discussed in the final report.\n",
        "max_text_token_count = 512\n",
        "max_summary_word_count = 128\n",
        "\n",
        "# Applying the filters\n",
        "bounded_token_length_aggregated_data_filtered_further_cleaned = aggregated_data_filtered_further_cleaned[\n",
        "    (aggregated_data_filtered_further_cleaned['text_token_count'] <= max_text_token_count) &\n",
        "    (aggregated_data_filtered_further_cleaned['summary_token_count'] <= max_summary_word_count)\n",
        "]\n",
        "\n",
        "# Displaying the first few rows of the filtered DataFrame\n",
        "print(bounded_token_length_aggregated_data_filtered_further_cleaned.head())"
      ]
    },
    {
      "cell_type": "code",
      "execution_count": null,
      "metadata": {
        "colab": {
          "base_uri": "https://localhost:8080/"
        },
        "id": "QEc9MoBnDXs4",
        "outputId": "ee74f2d3-c855-4327-e6c5-2a70b56e2ac0"
      },
      "outputs": [
        {
          "name": "stdout",
          "output_type": "stream",
          "text": [
            "Most common words:  [('ላይ', 35417), ('እና', 25352), ('።', 22192), ('ነው', 18800), ('ወደ', 14620), ('ጋር', 13982), ('ሲሆን', 12207), ('ውስጥ', 12166), ('አቶ', 11625), ('አበባ', 11159)]\n"
          ]
        }
      ],
      "source": [
        "bounded_token_length_aggregated_data_filtered_further_cleaned[['text_token_count', 'summary_token_count']].describe()\n",
        "\n",
        "all_words = ' '.join(bounded_token_length_aggregated_data_filtered_further_cleaned['text']).split()\n",
        "word_counts = Counter(all_words)\n",
        "print(\"Most common words: \", word_counts.most_common(10))"
      ]
    },
    {
      "cell_type": "code",
      "execution_count": null,
      "metadata": {
        "colab": {
          "base_uri": "https://localhost:8080/",
          "height": 607
        },
        "id": "E--PE7iCfc4p",
        "outputId": "e6898ae9-ca70-4978-af3f-bd36e4e2e90f"
      },
      "outputs": [
        {
          "data": {
            "image/png": "[encoded data removed]",
            "text/plain": [
              "<Figure size 1200x600 with 2 Axes>"
            ]
          },
          "metadata": {},
          "output_type": "display_data"
        }
      ],
      "source": [
        "# Extracting token counts\n",
        "text_token_counts = bounded_token_length_aggregated_data_filtered_further_cleaned['text_token_count']\n",
        "summary_token_counts = bounded_token_length_aggregated_data_filtered_further_cleaned['summary_token_count']\n",
        "\n",
        "# Plotting histograms\n",
        "plt.figure(figsize=(12, 6))\n",
        "\n",
        "# Histogram for text token counts\n",
        "plt.subplot(1, 2, 1)\n",
        "plt.hist(text_token_counts, bins=60, color='blue', alpha=0.7)\n",
        "plt.title('Distribution of Text Token Counts')\n",
        "plt.xlabel('Token Count')\n",
        "plt.ylabel('Frequency')\n",
        "\n",
        "# Histogram for summary token counts\n",
        "plt.subplot(1, 2, 2)\n",
        "plt.hist(summary_token_counts, bins=60, color='green', alpha=0.7)\n",
        "plt.title('Distribution of Summary Token Counts')\n",
        "plt.xlabel('Token Count')\n",
        "plt.ylabel('Frequency')\n",
        "\n",
        "# Show the plots\n",
        "plt.tight_layout()\n",
        "plt.show()"
      ]
    },
    {
      "cell_type": "code",
      "execution_count": null,
      "metadata": {
        "colab": {
          "base_uri": "https://localhost:8080/",
          "height": 607
        },
        "id": "fbK4_wljfjpj",
        "outputId": "74726a42-5720-4a1e-d5e3-446006ff8d5c"
      },
      "outputs": [
        {
          "data": {
            "image/png": "[encoded data removed]",
            "text/plain": [
              "<Figure size 1200x600 with 2 Axes>"
            ]
          },
          "metadata": {},
          "output_type": "display_data"
        }
      ],
      "source": [
        "# Plotting boxplots\n",
        "plt.figure(figsize=(12, 6))\n",
        "\n",
        "# Boxplot for text token counts\n",
        "plt.subplot(1, 2, 1)\n",
        "plt.boxplot(text_token_counts)\n",
        "plt.title('Boxplot of Text Token Counts')\n",
        "plt.xlabel('Text Token Count')\n",
        "plt.ylabel('Frequency')\n",
        "\n",
        "# Boxplot for summary token counts\n",
        "plt.subplot(1, 2, 2)\n",
        "plt.boxplot(summary_token_counts)\n",
        "plt.title('Boxplot of Summary Token Counts')\n",
        "plt.xlabel('Summary Token Count')\n",
        "plt.ylabel('Frequency')\n",
        "\n",
        "# Show the plots\n",
        "plt.tight_layout()\n",
        "plt.show()"
      ]
    },
    {
      "cell_type": "code",
      "execution_count": null,
      "metadata": {
        "id": "awiM-Z5lDweA"
      },
      "outputs": [],
      "source": [
        "# Saving Amharic-3\n",
        "\n",
        "# Splitting the dataset\n",
        "# 80% training, 10% validation, 10% testing\n",
        "train, temp = train_test_split(bounded_token_length_aggregated_data_filtered_further_cleaned, test_size=0.20, random_state=16)\n",
        "valid, test = train_test_split(temp, test_size=0.50, random_state=16)\n",
        "\n",
        "# Save them to different CSVs\n",
        "train.to_csv(folder_path + 'amharic_3_train.csv', index=False)\n",
        "valid.to_csv(folder_path + 'amharic_3_valid.csv', index=False)\n",
        "test.to_csv(folder_path + 'amharic_3_test.csv', index=False)\n",
        "\n",
        "# All of it in the same file\n",
        "bounded_token_length_aggregated_data_filtered_further_cleaned.to_csv(folder_path + 'amharic_3_all.csv', index=False)"
      ]
    }
  ],
  "metadata": {
    "accelerator": "GPU",
    "colab": {
      "gpuType": "A100",
      "machine_shape": "hm",
      "provenance": []
    },
    "kernelspec": {
      "display_name": "Python 3",
      "name": "python3"
    },
    "language_info": {
      "name": "python"
    },
    "widgets": {
      "application/vnd.jupyter.widget-state+json": {
        "0448dd42325a4749ab41ee946d4e35d3": {
          "model_module": "@jupyter-widgets/base",
          "model_module_version": "1.2.0",
          "model_name": "LayoutModel",
          "state": {
            "_model_module": "@jupyter-widgets/base",
            "_model_module_version": "1.2.0",
            "_model_name": "LayoutModel",
            "_view_count": null,
            "_view_module": "@jupyter-widgets/base",
            "_view_module_version": "1.2.0",
            "_view_name": "LayoutView",
            "align_content": null,
            "align_items": null,
            "align_self": null,
            "border": null,
            "bottom": null,
            "display": null,
            "flex": null,
            "flex_flow": null,
            "grid_area": null,
            "grid_auto_columns": null,
            "grid_auto_flow": null,
            "grid_auto_rows": null,
            "grid_column": null,
            "grid_gap": null,
            "grid_row": null,
            "grid_template_areas": null,
            "grid_template_columns": null,
            "grid_template_rows": null,
            "height": null,
            "justify_content": null,
            "justify_items": null,
            "left": null,
            "margin": null,
            "max_height": null,
            "max_width": null,
            "min_height": null,
            "min_width": null,
            "object_fit": null,
            "object_position": null,
            "order": null,
            "overflow": null,
            "overflow_x": null,
            "overflow_y": null,
            "padding": null,
            "right": null,
            "top": null,
            "visibility": null,
            "width": null
          }
        },
        "05a837e022b7430da7d92111a33ef3a7": {
          "model_module": "@jupyter-widgets/controls",
          "model_module_version": "1.5.0",
          "model_name": "FloatProgressModel",
          "state": {
            "_dom_classes": [],
            "_model_module": "@jupyter-widgets/controls",
            "_model_module_version": "1.5.0",
            "_model_name": "FloatProgressModel",
            "_view_count": null,
            "_view_module": "@jupyter-widgets/controls",
            "_view_module_version": "1.5.0",
            "_view_name": "ProgressView",
            "bar_style": "success",
            "description": "",
            "description_tooltip": null,
            "layout": "IPY_MODEL_3026a7cd14e04368b6c31bbd62d2b5f9",
            "max": 82,
            "min": 0,
            "orientation": "horizontal",
            "style": "IPY_MODEL_d15957208b0b436d83aff87806237d2b",
            "value": 82
          }
        },
        "12d613c18fb74feab9f2de411ab9cff5": {
          "model_module": "@jupyter-widgets/controls",
          "model_module_version": "1.5.0",
          "model_name": "HTMLModel",
          "state": {
            "_dom_classes": [],
            "_model_module": "@jupyter-widgets/controls",
            "_model_module_version": "1.5.0",
            "_model_name": "HTMLModel",
            "_view_count": null,
            "_view_module": "@jupyter-widgets/controls",
            "_view_module_version": "1.5.0",
            "_view_name": "HTMLView",
            "description": "",
            "description_tooltip": null,
            "layout": "IPY_MODEL_82eaef85df984b2cafe331b813b0e137",
            "placeholder": "​",
            "style": "IPY_MODEL_f9a3750b75754525ab5c93d42ad84775",
            "value": " 4.31M/4.31M [00:01&lt;00:00, 3.79MB/s]"
          }
        },
        "1604f2cda6264f5ba32d011f7cb536c6": {
          "model_module": "@jupyter-widgets/controls",
          "model_module_version": "1.5.0",
          "model_name": "DescriptionStyleModel",
          "state": {
            "_model_module": "@jupyter-widgets/controls",
            "_model_module_version": "1.5.0",
            "_model_name": "DescriptionStyleModel",
            "_view_count": null,
            "_view_module": "@jupyter-widgets/base",
            "_view_module_version": "1.2.0",
            "_view_name": "StyleView",
            "description_width": ""
          }
        },
        "16797bca56a14f4c8a393b6a4223e483": {
          "model_module": "@jupyter-widgets/controls",
          "model_module_version": "1.5.0",
          "model_name": "FloatProgressModel",
          "state": {
            "_dom_classes": [],
            "_model_module": "@jupyter-widgets/controls",
            "_model_module_version": "1.5.0",
            "_model_name": "FloatProgressModel",
            "_view_count": null,
            "_view_module": "@jupyter-widgets/controls",
            "_view_module_version": "1.5.0",
            "_view_name": "ProgressView",
            "bar_style": "success",
            "description": "",
            "description_tooltip": null,
            "layout": "IPY_MODEL_c56dc50cdcfa4e188394cf6c4a4f0051",
            "max": 553,
            "min": 0,
            "orientation": "horizontal",
            "style": "IPY_MODEL_fadc556217db42a0bf55fa222652db3b",
            "value": 553
          }
        },
        "1e42aa21380b4c94b32ffa50e2f3b60b": {
          "model_module": "@jupyter-widgets/base",
          "model_module_version": "1.2.0",
          "model_name": "LayoutModel",
          "state": {
            "_model_module": "@jupyter-widgets/base",
            "_model_module_version": "1.2.0",
            "_model_name": "LayoutModel",
            "_view_count": null,
            "_view_module": "@jupyter-widgets/base",
            "_view_module_version": "1.2.0",
            "_view_name": "LayoutView",
            "align_content": null,
            "align_items": null,
            "align_self": null,
            "border": null,
            "bottom": null,
            "display": null,
            "flex": null,
            "flex_flow": null,
            "grid_area": null,
            "grid_auto_columns": null,
            "grid_auto_flow": null,
            "grid_auto_rows": null,
            "grid_column": null,
            "grid_gap": null,
            "grid_row": null,
            "grid_template_areas": null,
            "grid_template_columns": null,
            "grid_template_rows": null,
            "height": null,
            "justify_content": null,
            "justify_items": null,
            "left": null,
            "margin": null,
            "max_height": null,
            "max_width": null,
            "min_height": null,
            "min_width": null,
            "object_fit": null,
            "object_position": null,
            "order": null,
            "overflow": null,
            "overflow_x": null,
            "overflow_y": null,
            "padding": null,
            "right": null,
            "top": null,
            "visibility": null,
            "width": null
          }
        },
        "2177eaf3920149379660ac0129e22437": {
          "model_module": "@jupyter-widgets/base",
          "model_module_version": "1.2.0",
          "model_name": "LayoutModel",
          "state": {
            "_model_module": "@jupyter-widgets/base",
            "_model_module_version": "1.2.0",
            "_model_name": "LayoutModel",
            "_view_count": null,
            "_view_module": "@jupyter-widgets/base",
            "_view_module_version": "1.2.0",
            "_view_name": "LayoutView",
            "align_content": null,
            "align_items": null,
            "align_self": null,
            "border": null,
            "bottom": null,
            "display": null,
            "flex": null,
            "flex_flow": null,
            "grid_area": null,
            "grid_auto_columns": null,
            "grid_auto_flow": null,
            "grid_auto_rows": null,
            "grid_column": null,
            "grid_gap": null,
            "grid_row": null,
            "grid_template_areas": null,
            "grid_template_columns": null,
            "grid_template_rows": null,
            "height": null,
            "justify_content": null,
            "justify_items": null,
            "left": null,
            "margin": null,
            "max_height": null,
            "max_width": null,
            "min_height": null,
            "min_width": null,
            "object_fit": null,
            "object_position": null,
            "order": null,
            "overflow": null,
            "overflow_x": null,
            "overflow_y": null,
            "padding": null,
            "right": null,
            "top": null,
            "visibility": null,
            "width": null
          }
        },
        "25e4e2a633fd4a0ebb28dcb0a559dee1": {
          "model_module": "@jupyter-widgets/controls",
          "model_module_version": "1.5.0",
          "model_name": "DescriptionStyleModel",
          "state": {
            "_model_module": "@jupyter-widgets/controls",
            "_model_module_version": "1.5.0",
            "_model_name": "DescriptionStyleModel",
            "_view_count": null,
            "_view_module": "@jupyter-widgets/base",
            "_view_module_version": "1.2.0",
            "_view_name": "StyleView",
            "description_width": ""
          }
        },
        "26cc922dd9114ac692638710fb770b7a": {
          "model_module": "@jupyter-widgets/controls",
          "model_module_version": "1.5.0",
          "model_name": "HTMLModel",
          "state": {
            "_dom_classes": [],
            "_model_module": "@jupyter-widgets/controls",
            "_model_module_version": "1.5.0",
            "_model_name": "HTMLModel",
            "_view_count": null,
            "_view_module": "@jupyter-widgets/controls",
            "_view_module_version": "1.5.0",
            "_view_name": "HTMLView",
            "description": "",
            "description_tooltip": null,
            "layout": "IPY_MODEL_d84f179044674afc8a5a05792016cfe4",
            "placeholder": "​",
            "style": "IPY_MODEL_34dc7da533a140528e65b2488061c38a",
            "value": " 99.0/99.0 [00:00&lt;00:00, 7.48kB/s]"
          }
        },
        "3026a7cd14e04368b6c31bbd62d2b5f9": {
          "model_module": "@jupyter-widgets/base",
          "model_module_version": "1.2.0",
          "model_name": "LayoutModel",
          "state": {
            "_model_module": "@jupyter-widgets/base",
            "_model_module_version": "1.2.0",
            "_model_name": "LayoutModel",
            "_view_count": null,
            "_view_module": "@jupyter-widgets/base",
            "_view_module_version": "1.2.0",
            "_view_name": "LayoutView",
            "align_content": null,
            "align_items": null,
            "align_self": null,
            "border": null,
            "bottom": null,
            "display": null,
            "flex": null,
            "flex_flow": null,
            "grid_area": null,
            "grid_auto_columns": null,
            "grid_auto_flow": null,
            "grid_auto_rows": null,
            "grid_column": null,
            "grid_gap": null,
            "grid_row": null,
            "grid_template_areas": null,
            "grid_template_columns": null,
            "grid_template_rows": null,
            "height": null,
            "justify_content": null,
            "justify_items": null,
            "left": null,
            "margin": null,
            "max_height": null,
            "max_width": null,
            "min_height": null,
            "min_width": null,
            "object_fit": null,
            "object_position": null,
            "order": null,
            "overflow": null,
            "overflow_x": null,
            "overflow_y": null,
            "padding": null,
            "right": null,
            "top": null,
            "visibility": null,
            "width": null
          }
        },
        "34dc7da533a140528e65b2488061c38a": {
          "model_module": "@jupyter-widgets/controls",
          "model_module_version": "1.5.0",
          "model_name": "DescriptionStyleModel",
          "state": {
            "_model_module": "@jupyter-widgets/controls",
            "_model_module_version": "1.5.0",
            "_model_name": "DescriptionStyleModel",
            "_view_count": null,
            "_view_module": "@jupyter-widgets/base",
            "_view_module_version": "1.2.0",
            "_view_name": "StyleView",
            "description_width": ""
          }
        },
        "3b0c697c823a455c9b207c1e79e98463": {
          "model_module": "@jupyter-widgets/base",
          "model_module_version": "1.2.0",
          "model_name": "LayoutModel",
          "state": {
            "_model_module": "@jupyter-widgets/base",
            "_model_module_version": "1.2.0",
            "_model_name": "LayoutModel",
            "_view_count": null,
            "_view_module": "@jupyter-widgets/base",
            "_view_module_version": "1.2.0",
            "_view_name": "LayoutView",
            "align_content": null,
            "align_items": null,
            "align_self": null,
            "border": null,
            "bottom": null,
            "display": null,
            "flex": null,
            "flex_flow": null,
            "grid_area": null,
            "grid_auto_columns": null,
            "grid_auto_flow": null,
            "grid_auto_rows": null,
            "grid_column": null,
            "grid_gap": null,
            "grid_row": null,
            "grid_template_areas": null,
            "grid_template_columns": null,
            "grid_template_rows": null,
            "height": null,
            "justify_content": null,
            "justify_items": null,
            "left": null,
            "margin": null,
            "max_height": null,
            "max_width": null,
            "min_height": null,
            "min_width": null,
            "object_fit": null,
            "object_position": null,
            "order": null,
            "overflow": null,
            "overflow_x": null,
            "overflow_y": null,
            "padding": null,
            "right": null,
            "top": null,
            "visibility": null,
            "width": null
          }
        },
        "4439c1ecec9e4a8db95ccc3e100e7d0d": {
          "model_module": "@jupyter-widgets/controls",
          "model_module_version": "1.5.0",
          "model_name": "HBoxModel",
          "state": {
            "_dom_classes": [],
            "_model_module": "@jupyter-widgets/controls",
            "_model_module_version": "1.5.0",
            "_model_name": "HBoxModel",
            "_view_count": null,
            "_view_module": "@jupyter-widgets/controls",
            "_view_module_version": "1.5.0",
            "_view_name": "HBoxView",
            "box_style": "",
            "children": [
              "IPY_MODEL_6ba6f59ca7064038ae96f12b8315f7fa",
              "IPY_MODEL_05a837e022b7430da7d92111a33ef3a7",
              "IPY_MODEL_58ef5f73020944c99bfb5ef078bde3f5"
            ],
            "layout": "IPY_MODEL_3b0c697c823a455c9b207c1e79e98463"
          }
        },
        "454ea780ad0a444a9f94d462b89b09ef": {
          "model_module": "@jupyter-widgets/controls",
          "model_module_version": "1.5.0",
          "model_name": "FloatProgressModel",
          "state": {
            "_dom_classes": [],
            "_model_module": "@jupyter-widgets/controls",
            "_model_module_version": "1.5.0",
            "_model_name": "FloatProgressModel",
            "_view_count": null,
            "_view_module": "@jupyter-widgets/controls",
            "_view_module_version": "1.5.0",
            "_view_name": "ProgressView",
            "bar_style": "success",
            "description": "",
            "description_tooltip": null,
            "layout": "IPY_MODEL_2177eaf3920149379660ac0129e22437",
            "max": 99,
            "min": 0,
            "orientation": "horizontal",
            "style": "IPY_MODEL_78921f30c6954b68b5e3e1aa509ec54f",
            "value": 99
          }
        },
        "58ef5f73020944c99bfb5ef078bde3f5": {
          "model_module": "@jupyter-widgets/controls",
          "model_module_version": "1.5.0",
          "model_name": "HTMLModel",
          "state": {
            "_dom_classes": [],
            "_model_module": "@jupyter-widgets/controls",
            "_model_module_version": "1.5.0",
            "_model_name": "HTMLModel",
            "_view_count": null,
            "_view_module": "@jupyter-widgets/controls",
            "_view_module_version": "1.5.0",
            "_view_name": "HTMLView",
            "description": "",
            "description_tooltip": null,
            "layout": "IPY_MODEL_d22d30eba2184a85b4748b6ebd6ab0e2",
            "placeholder": "​",
            "style": "IPY_MODEL_c1f03faa4f03442699893817c0a1e1b5",
            "value": " 82.0/82.0 [00:00&lt;00:00, 5.38kB/s]"
          }
        },
        "5e17223597da41dfa3e82849d1bb39e7": {
          "model_module": "@jupyter-widgets/controls",
          "model_module_version": "1.5.0",
          "model_name": "HBoxModel",
          "state": {
            "_dom_classes": [],
            "_model_module": "@jupyter-widgets/controls",
            "_model_module_version": "1.5.0",
            "_model_name": "HBoxModel",
            "_view_count": null,
            "_view_module": "@jupyter-widgets/controls",
            "_view_module_version": "1.5.0",
            "_view_name": "HBoxView",
            "box_style": "",
            "children": [
              "IPY_MODEL_bcb92c346ca74854afb89cede82693c0",
              "IPY_MODEL_d7485707a46e4cd0854c0c7598927e2f",
              "IPY_MODEL_12d613c18fb74feab9f2de411ab9cff5"
            ],
            "layout": "IPY_MODEL_d6c1e6b67441446aa1d94aa2fd31d0b3"
          }
        },
        "6b484b25b21a4149bbcaf11772114e6e": {
          "model_module": "@jupyter-widgets/controls",
          "model_module_version": "1.5.0",
          "model_name": "HBoxModel",
          "state": {
            "_dom_classes": [],
            "_model_module": "@jupyter-widgets/controls",
            "_model_module_version": "1.5.0",
            "_model_name": "HBoxModel",
            "_view_count": null,
            "_view_module": "@jupyter-widgets/controls",
            "_view_module_version": "1.5.0",
            "_view_name": "HBoxView",
            "box_style": "",
            "children": [
              "IPY_MODEL_8389ecc9e5824b7b9cd306d40c3b7339",
              "IPY_MODEL_454ea780ad0a444a9f94d462b89b09ef",
              "IPY_MODEL_26cc922dd9114ac692638710fb770b7a"
            ],
            "layout": "IPY_MODEL_e6cd6b7c22f24cbf8cfbc71eb8f4d2ff"
          }
        },
        "6ba6f59ca7064038ae96f12b8315f7fa": {
          "model_module": "@jupyter-widgets/controls",
          "model_module_version": "1.5.0",
          "model_name": "HTMLModel",
          "state": {
            "_dom_classes": [],
            "_model_module": "@jupyter-widgets/controls",
            "_model_module_version": "1.5.0",
            "_model_name": "HTMLModel",
            "_view_count": null,
            "_view_module": "@jupyter-widgets/controls",
            "_view_module_version": "1.5.0",
            "_view_name": "HTMLView",
            "description": "",
            "description_tooltip": null,
            "layout": "IPY_MODEL_ebc6ab743c4549548144ee9206da023d",
            "placeholder": "​",
            "style": "IPY_MODEL_f9ea67f7542346779773c9daf43aee68",
            "value": "tokenizer_config.json: 100%"
          }
        },
        "76b18c517d064123bd7d44ba2ccecec4": {
          "model_module": "@jupyter-widgets/base",
          "model_module_version": "1.2.0",
          "model_name": "LayoutModel",
          "state": {
            "_model_module": "@jupyter-widgets/base",
            "_model_module_version": "1.2.0",
            "_model_name": "LayoutModel",
            "_view_count": null,
            "_view_module": "@jupyter-widgets/base",
            "_view_module_version": "1.2.0",
            "_view_name": "LayoutView",
            "align_content": null,
            "align_items": null,
            "align_self": null,
            "border": null,
            "bottom": null,
            "display": null,
            "flex": null,
            "flex_flow": null,
            "grid_area": null,
            "grid_auto_columns": null,
            "grid_auto_flow": null,
            "grid_auto_rows": null,
            "grid_column": null,
            "grid_gap": null,
            "grid_row": null,
            "grid_template_areas": null,
            "grid_template_columns": null,
            "grid_template_rows": null,
            "height": null,
            "justify_content": null,
            "justify_items": null,
            "left": null,
            "margin": null,
            "max_height": null,
            "max_width": null,
            "min_height": null,
            "min_width": null,
            "object_fit": null,
            "object_position": null,
            "order": null,
            "overflow": null,
            "overflow_x": null,
            "overflow_y": null,
            "padding": null,
            "right": null,
            "top": null,
            "visibility": null,
            "width": null
          }
        },
        "78921f30c6954b68b5e3e1aa509ec54f": {
          "model_module": "@jupyter-widgets/controls",
          "model_module_version": "1.5.0",
          "model_name": "ProgressStyleModel",
          "state": {
            "_model_module": "@jupyter-widgets/controls",
            "_model_module_version": "1.5.0",
            "_model_name": "ProgressStyleModel",
            "_view_count": null,
            "_view_module": "@jupyter-widgets/base",
            "_view_module_version": "1.2.0",
            "_view_name": "StyleView",
            "bar_color": null,
            "description_width": ""
          }
        },
        "82bab008af2947c69b5199a7c31a4817": {
          "model_module": "@jupyter-widgets/controls",
          "model_module_version": "1.5.0",
          "model_name": "DescriptionStyleModel",
          "state": {
            "_model_module": "@jupyter-widgets/controls",
            "_model_module_version": "1.5.0",
            "_model_name": "DescriptionStyleModel",
            "_view_count": null,
            "_view_module": "@jupyter-widgets/base",
            "_view_module_version": "1.2.0",
            "_view_name": "StyleView",
            "description_width": ""
          }
        },
        "82eaef85df984b2cafe331b813b0e137": {
          "model_module": "@jupyter-widgets/base",
          "model_module_version": "1.2.0",
          "model_name": "LayoutModel",
          "state": {
            "_model_module": "@jupyter-widgets/base",
            "_model_module_version": "1.2.0",
            "_model_name": "LayoutModel",
            "_view_count": null,
            "_view_module": "@jupyter-widgets/base",
            "_view_module_version": "1.2.0",
            "_view_name": "LayoutView",
            "align_content": null,
            "align_items": null,
            "align_self": null,
            "border": null,
            "bottom": null,
            "display": null,
            "flex": null,
            "flex_flow": null,
            "grid_area": null,
            "grid_auto_columns": null,
            "grid_auto_flow": null,
            "grid_auto_rows": null,
            "grid_column": null,
            "grid_gap": null,
            "grid_row": null,
            "grid_template_areas": null,
            "grid_template_columns": null,
            "grid_template_rows": null,
            "height": null,
            "justify_content": null,
            "justify_items": null,
            "left": null,
            "margin": null,
            "max_height": null,
            "max_width": null,
            "min_height": null,
            "min_width": null,
            "object_fit": null,
            "object_position": null,
            "order": null,
            "overflow": null,
            "overflow_x": null,
            "overflow_y": null,
            "padding": null,
            "right": null,
            "top": null,
            "visibility": null,
            "width": null
          }
        },
        "8389ecc9e5824b7b9cd306d40c3b7339": {
          "model_module": "@jupyter-widgets/controls",
          "model_module_version": "1.5.0",
          "model_name": "HTMLModel",
          "state": {
            "_dom_classes": [],
            "_model_module": "@jupyter-widgets/controls",
            "_model_module_version": "1.5.0",
            "_model_name": "HTMLModel",
            "_view_count": null,
            "_view_module": "@jupyter-widgets/controls",
            "_view_module_version": "1.5.0",
            "_view_name": "HTMLView",
            "description": "",
            "description_tooltip": null,
            "layout": "IPY_MODEL_8853f548644042ca8417e36075e26a69",
            "placeholder": "​",
            "style": "IPY_MODEL_82bab008af2947c69b5199a7c31a4817",
            "value": "special_tokens_map.json: 100%"
          }
        },
        "8853f548644042ca8417e36075e26a69": {
          "model_module": "@jupyter-widgets/base",
          "model_module_version": "1.2.0",
          "model_name": "LayoutModel",
          "state": {
            "_model_module": "@jupyter-widgets/base",
            "_model_module_version": "1.2.0",
            "_model_name": "LayoutModel",
            "_view_count": null,
            "_view_module": "@jupyter-widgets/base",
            "_view_module_version": "1.2.0",
            "_view_name": "LayoutView",
            "align_content": null,
            "align_items": null,
            "align_self": null,
            "border": null,
            "bottom": null,
            "display": null,
            "flex": null,
            "flex_flow": null,
            "grid_area": null,
            "grid_auto_columns": null,
            "grid_auto_flow": null,
            "grid_auto_rows": null,
            "grid_column": null,
            "grid_gap": null,
            "grid_row": null,
            "grid_template_areas": null,
            "grid_template_columns": null,
            "grid_template_rows": null,
            "height": null,
            "justify_content": null,
            "justify_items": null,
            "left": null,
            "margin": null,
            "max_height": null,
            "max_width": null,
            "min_height": null,
            "min_width": null,
            "object_fit": null,
            "object_position": null,
            "order": null,
            "overflow": null,
            "overflow_x": null,
            "overflow_y": null,
            "padding": null,
            "right": null,
            "top": null,
            "visibility": null,
            "width": null
          }
        },
        "ab5c5ebf65c04f10b0f5b8eb0f164115": {
          "model_module": "@jupyter-widgets/controls",
          "model_module_version": "1.5.0",
          "model_name": "HTMLModel",
          "state": {
            "_dom_classes": [],
            "_model_module": "@jupyter-widgets/controls",
            "_model_module_version": "1.5.0",
            "_model_name": "HTMLModel",
            "_view_count": null,
            "_view_module": "@jupyter-widgets/controls",
            "_view_module_version": "1.5.0",
            "_view_name": "HTMLView",
            "description": "",
            "description_tooltip": null,
            "layout": "IPY_MODEL_bd11566d575b44acb26f143dcbed3fd3",
            "placeholder": "​",
            "style": "IPY_MODEL_25e4e2a633fd4a0ebb28dcb0a559dee1",
            "value": " 553/553 [00:00&lt;00:00, 51.2kB/s]"
          }
        },
        "bcb92c346ca74854afb89cede82693c0": {
          "model_module": "@jupyter-widgets/controls",
          "model_module_version": "1.5.0",
          "model_name": "HTMLModel",
          "state": {
            "_dom_classes": [],
            "_model_module": "@jupyter-widgets/controls",
            "_model_module_version": "1.5.0",
            "_model_name": "HTMLModel",
            "_view_count": null,
            "_view_module": "@jupyter-widgets/controls",
            "_view_module_version": "1.5.0",
            "_view_name": "HTMLView",
            "description": "",
            "description_tooltip": null,
            "layout": "IPY_MODEL_76b18c517d064123bd7d44ba2ccecec4",
            "placeholder": "​",
            "style": "IPY_MODEL_ec97005a621f41b8b3b212016dbddba0",
            "value": "spiece.model: 100%"
          }
        },
        "bd11566d575b44acb26f143dcbed3fd3": {
          "model_module": "@jupyter-widgets/base",
          "model_module_version": "1.2.0",
          "model_name": "LayoutModel",
          "state": {
            "_model_module": "@jupyter-widgets/base",
            "_model_module_version": "1.2.0",
            "_model_name": "LayoutModel",
            "_view_count": null,
            "_view_module": "@jupyter-widgets/base",
            "_view_module_version": "1.2.0",
            "_view_name": "LayoutView",
            "align_content": null,
            "align_items": null,
            "align_self": null,
            "border": null,
            "bottom": null,
            "display": null,
            "flex": null,
            "flex_flow": null,
            "grid_area": null,
            "grid_auto_columns": null,
            "grid_auto_flow": null,
            "grid_auto_rows": null,
            "grid_column": null,
            "grid_gap": null,
            "grid_row": null,
            "grid_template_areas": null,
            "grid_template_columns": null,
            "grid_template_rows": null,
            "height": null,
            "justify_content": null,
            "justify_items": null,
            "left": null,
            "margin": null,
            "max_height": null,
            "max_width": null,
            "min_height": null,
            "min_width": null,
            "object_fit": null,
            "object_position": null,
            "order": null,
            "overflow": null,
            "overflow_x": null,
            "overflow_y": null,
            "padding": null,
            "right": null,
            "top": null,
            "visibility": null,
            "width": null
          }
        },
        "c1f03faa4f03442699893817c0a1e1b5": {
          "model_module": "@jupyter-widgets/controls",
          "model_module_version": "1.5.0",
          "model_name": "DescriptionStyleModel",
          "state": {
            "_model_module": "@jupyter-widgets/controls",
            "_model_module_version": "1.5.0",
            "_model_name": "DescriptionStyleModel",
            "_view_count": null,
            "_view_module": "@jupyter-widgets/base",
            "_view_module_version": "1.2.0",
            "_view_name": "StyleView",
            "description_width": ""
          }
        },
        "c56dc50cdcfa4e188394cf6c4a4f0051": {
          "model_module": "@jupyter-widgets/base",
          "model_module_version": "1.2.0",
          "model_name": "LayoutModel",
          "state": {
            "_model_module": "@jupyter-widgets/base",
            "_model_module_version": "1.2.0",
            "_model_name": "LayoutModel",
            "_view_count": null,
            "_view_module": "@jupyter-widgets/base",
            "_view_module_version": "1.2.0",
            "_view_name": "LayoutView",
            "align_content": null,
            "align_items": null,
            "align_self": null,
            "border": null,
            "bottom": null,
            "display": null,
            "flex": null,
            "flex_flow": null,
            "grid_area": null,
            "grid_auto_columns": null,
            "grid_auto_flow": null,
            "grid_auto_rows": null,
            "grid_column": null,
            "grid_gap": null,
            "grid_row": null,
            "grid_template_areas": null,
            "grid_template_columns": null,
            "grid_template_rows": null,
            "height": null,
            "justify_content": null,
            "justify_items": null,
            "left": null,
            "margin": null,
            "max_height": null,
            "max_width": null,
            "min_height": null,
            "min_width": null,
            "object_fit": null,
            "object_position": null,
            "order": null,
            "overflow": null,
            "overflow_x": null,
            "overflow_y": null,
            "padding": null,
            "right": null,
            "top": null,
            "visibility": null,
            "width": null
          }
        },
        "cbacf891a335444c895e628ca650658e": {
          "model_module": "@jupyter-widgets/controls",
          "model_module_version": "1.5.0",
          "model_name": "HBoxModel",
          "state": {
            "_dom_classes": [],
            "_model_module": "@jupyter-widgets/controls",
            "_model_module_version": "1.5.0",
            "_model_name": "HBoxModel",
            "_view_count": null,
            "_view_module": "@jupyter-widgets/controls",
            "_view_module_version": "1.5.0",
            "_view_name": "HBoxView",
            "box_style": "",
            "children": [
              "IPY_MODEL_feb71d671c5e4922b30d4a06e5e458f5",
              "IPY_MODEL_16797bca56a14f4c8a393b6a4223e483",
              "IPY_MODEL_ab5c5ebf65c04f10b0f5b8eb0f164115"
            ],
            "layout": "IPY_MODEL_d655ad4462b8430b87c8b8e4da78b533"
          }
        },
        "d15957208b0b436d83aff87806237d2b": {
          "model_module": "@jupyter-widgets/controls",
          "model_module_version": "1.5.0",
          "model_name": "ProgressStyleModel",
          "state": {
            "_model_module": "@jupyter-widgets/controls",
            "_model_module_version": "1.5.0",
            "_model_name": "ProgressStyleModel",
            "_view_count": null,
            "_view_module": "@jupyter-widgets/base",
            "_view_module_version": "1.2.0",
            "_view_name": "StyleView",
            "bar_color": null,
            "description_width": ""
          }
        },
        "d22d30eba2184a85b4748b6ebd6ab0e2": {
          "model_module": "@jupyter-widgets/base",
          "model_module_version": "1.2.0",
          "model_name": "LayoutModel",
          "state": {
            "_model_module": "@jupyter-widgets/base",
            "_model_module_version": "1.2.0",
            "_model_name": "LayoutModel",
            "_view_count": null,
            "_view_module": "@jupyter-widgets/base",
            "_view_module_version": "1.2.0",
            "_view_name": "LayoutView",
            "align_content": null,
            "align_items": null,
            "align_self": null,
            "border": null,
            "bottom": null,
            "display": null,
            "flex": null,
            "flex_flow": null,
            "grid_area": null,
            "grid_auto_columns": null,
            "grid_auto_flow": null,
            "grid_auto_rows": null,
            "grid_column": null,
            "grid_gap": null,
            "grid_row": null,
            "grid_template_areas": null,
            "grid_template_columns": null,
            "grid_template_rows": null,
            "height": null,
            "justify_content": null,
            "justify_items": null,
            "left": null,
            "margin": null,
            "max_height": null,
            "max_width": null,
            "min_height": null,
            "min_width": null,
            "object_fit": null,
            "object_position": null,
            "order": null,
            "overflow": null,
            "overflow_x": null,
            "overflow_y": null,
            "padding": null,
            "right": null,
            "top": null,
            "visibility": null,
            "width": null
          }
        },
        "d655ad4462b8430b87c8b8e4da78b533": {
          "model_module": "@jupyter-widgets/base",
          "model_module_version": "1.2.0",
          "model_name": "LayoutModel",
          "state": {
            "_model_module": "@jupyter-widgets/base",
            "_model_module_version": "1.2.0",
            "_model_name": "LayoutModel",
            "_view_count": null,
            "_view_module": "@jupyter-widgets/base",
            "_view_module_version": "1.2.0",
            "_view_name": "LayoutView",
            "align_content": null,
            "align_items": null,
            "align_self": null,
            "border": null,
            "bottom": null,
            "display": null,
            "flex": null,
            "flex_flow": null,
            "grid_area": null,
            "grid_auto_columns": null,
            "grid_auto_flow": null,
            "grid_auto_rows": null,
            "grid_column": null,
            "grid_gap": null,
            "grid_row": null,
            "grid_template_areas": null,
            "grid_template_columns": null,
            "grid_template_rows": null,
            "height": null,
            "justify_content": null,
            "justify_items": null,
            "left": null,
            "margin": null,
            "max_height": null,
            "max_width": null,
            "min_height": null,
            "min_width": null,
            "object_fit": null,
            "object_position": null,
            "order": null,
            "overflow": null,
            "overflow_x": null,
            "overflow_y": null,
            "padding": null,
            "right": null,
            "top": null,
            "visibility": null,
            "width": null
          }
        },
        "d6c1e6b67441446aa1d94aa2fd31d0b3": {
          "model_module": "@jupyter-widgets/base",
          "model_module_version": "1.2.0",
          "model_name": "LayoutModel",
          "state": {
            "_model_module": "@jupyter-widgets/base",
            "_model_module_version": "1.2.0",
            "_model_name": "LayoutModel",
            "_view_count": null,
            "_view_module": "@jupyter-widgets/base",
            "_view_module_version": "1.2.0",
            "_view_name": "LayoutView",
            "align_content": null,
            "align_items": null,
            "align_self": null,
            "border": null,
            "bottom": null,
            "display": null,
            "flex": null,
            "flex_flow": null,
            "grid_area": null,
            "grid_auto_columns": null,
            "grid_auto_flow": null,
            "grid_auto_rows": null,
            "grid_column": null,
            "grid_gap": null,
            "grid_row": null,
            "grid_template_areas": null,
            "grid_template_columns": null,
            "grid_template_rows": null,
            "height": null,
            "justify_content": null,
            "justify_items": null,
            "left": null,
            "margin": null,
            "max_height": null,
            "max_width": null,
            "min_height": null,
            "min_width": null,
            "object_fit": null,
            "object_position": null,
            "order": null,
            "overflow": null,
            "overflow_x": null,
            "overflow_y": null,
            "padding": null,
            "right": null,
            "top": null,
            "visibility": null,
            "width": null
          }
        },
        "d7485707a46e4cd0854c0c7598927e2f": {
          "model_module": "@jupyter-widgets/controls",
          "model_module_version": "1.5.0",
          "model_name": "FloatProgressModel",
          "state": {
            "_dom_classes": [],
            "_model_module": "@jupyter-widgets/controls",
            "_model_module_version": "1.5.0",
            "_model_name": "FloatProgressModel",
            "_view_count": null,
            "_view_module": "@jupyter-widgets/controls",
            "_view_module_version": "1.5.0",
            "_view_name": "ProgressView",
            "bar_style": "success",
            "description": "",
            "description_tooltip": null,
            "layout": "IPY_MODEL_0448dd42325a4749ab41ee946d4e35d3",
            "max": 4309802,
            "min": 0,
            "orientation": "horizontal",
            "style": "IPY_MODEL_f00a1912bde54a8b81bde7d33188d327",
            "value": 4309802
          }
        },
        "d84f179044674afc8a5a05792016cfe4": {
          "model_module": "@jupyter-widgets/base",
          "model_module_version": "1.2.0",
          "model_name": "LayoutModel",
          "state": {
            "_model_module": "@jupyter-widgets/base",
            "_model_module_version": "1.2.0",
            "_model_name": "LayoutModel",
            "_view_count": null,
            "_view_module": "@jupyter-widgets/base",
            "_view_module_version": "1.2.0",
            "_view_name": "LayoutView",
            "align_content": null,
            "align_items": null,
            "align_self": null,
            "border": null,
            "bottom": null,
            "display": null,
            "flex": null,
            "flex_flow": null,
            "grid_area": null,
            "grid_auto_columns": null,
            "grid_auto_flow": null,
            "grid_auto_rows": null,
            "grid_column": null,
            "grid_gap": null,
            "grid_row": null,
            "grid_template_areas": null,
            "grid_template_columns": null,
            "grid_template_rows": null,
            "height": null,
            "justify_content": null,
            "justify_items": null,
            "left": null,
            "margin": null,
            "max_height": null,
            "max_width": null,
            "min_height": null,
            "min_width": null,
            "object_fit": null,
            "object_position": null,
            "order": null,
            "overflow": null,
            "overflow_x": null,
            "overflow_y": null,
            "padding": null,
            "right": null,
            "top": null,
            "visibility": null,
            "width": null
          }
        },
        "e6cd6b7c22f24cbf8cfbc71eb8f4d2ff": {
          "model_module": "@jupyter-widgets/base",
          "model_module_version": "1.2.0",
          "model_name": "LayoutModel",
          "state": {
            "_model_module": "@jupyter-widgets/base",
            "_model_module_version": "1.2.0",
            "_model_name": "LayoutModel",
            "_view_count": null,
            "_view_module": "@jupyter-widgets/base",
            "_view_module_version": "1.2.0",
            "_view_name": "LayoutView",
            "align_content": null,
            "align_items": null,
            "align_self": null,
            "border": null,
            "bottom": null,
            "display": null,
            "flex": null,
            "flex_flow": null,
            "grid_area": null,
            "grid_auto_columns": null,
            "grid_auto_flow": null,
            "grid_auto_rows": null,
            "grid_column": null,
            "grid_gap": null,
            "grid_row": null,
            "grid_template_areas": null,
            "grid_template_columns": null,
            "grid_template_rows": null,
            "height": null,
            "justify_content": null,
            "justify_items": null,
            "left": null,
            "margin": null,
            "max_height": null,
            "max_width": null,
            "min_height": null,
            "min_width": null,
            "object_fit": null,
            "object_position": null,
            "order": null,
            "overflow": null,
            "overflow_x": null,
            "overflow_y": null,
            "padding": null,
            "right": null,
            "top": null,
            "visibility": null,
            "width": null
          }
        },
        "ebc6ab743c4549548144ee9206da023d": {
          "model_module": "@jupyter-widgets/base",
          "model_module_version": "1.2.0",
          "model_name": "LayoutModel",
          "state": {
            "_model_module": "@jupyter-widgets/base",
            "_model_module_version": "1.2.0",
            "_model_name": "LayoutModel",
            "_view_count": null,
            "_view_module": "@jupyter-widgets/base",
            "_view_module_version": "1.2.0",
            "_view_name": "LayoutView",
            "align_content": null,
            "align_items": null,
            "align_self": null,
            "border": null,
            "bottom": null,
            "display": null,
            "flex": null,
            "flex_flow": null,
            "grid_area": null,
            "grid_auto_columns": null,
            "grid_auto_flow": null,
            "grid_auto_rows": null,
            "grid_column": null,
            "grid_gap": null,
            "grid_row": null,
            "grid_template_areas": null,
            "grid_template_columns": null,
            "grid_template_rows": null,
            "height": null,
            "justify_content": null,
            "justify_items": null,
            "left": null,
            "margin": null,
            "max_height": null,
            "max_width": null,
            "min_height": null,
            "min_width": null,
            "object_fit": null,
            "object_position": null,
            "order": null,
            "overflow": null,
            "overflow_x": null,
            "overflow_y": null,
            "padding": null,
            "right": null,
            "top": null,
            "visibility": null,
            "width": null
          }
        },
        "ec97005a621f41b8b3b212016dbddba0": {
          "model_module": "@jupyter-widgets/controls",
          "model_module_version": "1.5.0",
          "model_name": "DescriptionStyleModel",
          "state": {
            "_model_module": "@jupyter-widgets/controls",
            "_model_module_version": "1.5.0",
            "_model_name": "DescriptionStyleModel",
            "_view_count": null,
            "_view_module": "@jupyter-widgets/base",
            "_view_module_version": "1.2.0",
            "_view_name": "StyleView",
            "description_width": ""
          }
        },
        "f00a1912bde54a8b81bde7d33188d327": {
          "model_module": "@jupyter-widgets/controls",
          "model_module_version": "1.5.0",
          "model_name": "ProgressStyleModel",
          "state": {
            "_model_module": "@jupyter-widgets/controls",
            "_model_module_version": "1.5.0",
            "_model_name": "ProgressStyleModel",
            "_view_count": null,
            "_view_module": "@jupyter-widgets/base",
            "_view_module_version": "1.2.0",
            "_view_name": "StyleView",
            "bar_color": null,
            "description_width": ""
          }
        },
        "f9a3750b75754525ab5c93d42ad84775": {
          "model_module": "@jupyter-widgets/controls",
          "model_module_version": "1.5.0",
          "model_name": "DescriptionStyleModel",
          "state": {
            "_model_module": "@jupyter-widgets/controls",
            "_model_module_version": "1.5.0",
            "_model_name": "DescriptionStyleModel",
            "_view_count": null,
            "_view_module": "@jupyter-widgets/base",
            "_view_module_version": "1.2.0",
            "_view_name": "StyleView",
            "description_width": ""
          }
        },
        "f9ea67f7542346779773c9daf43aee68": {
          "model_module": "@jupyter-widgets/controls",
          "model_module_version": "1.5.0",
          "model_name": "DescriptionStyleModel",
          "state": {
            "_model_module": "@jupyter-widgets/controls",
            "_model_module_version": "1.5.0",
            "_model_name": "DescriptionStyleModel",
            "_view_count": null,
            "_view_module": "@jupyter-widgets/base",
            "_view_module_version": "1.2.0",
            "_view_name": "StyleView",
            "description_width": ""
          }
        },
        "fadc556217db42a0bf55fa222652db3b": {
          "model_module": "@jupyter-widgets/controls",
          "model_module_version": "1.5.0",
          "model_name": "ProgressStyleModel",
          "state": {
            "_model_module": "@jupyter-widgets/controls",
            "_model_module_version": "1.5.0",
            "_model_name": "ProgressStyleModel",
            "_view_count": null,
            "_view_module": "@jupyter-widgets/base",
            "_view_module_version": "1.2.0",
            "_view_name": "StyleView",
            "bar_color": null,
            "description_width": ""
          }
        },
        "feb71d671c5e4922b30d4a06e5e458f5": {
          "model_module": "@jupyter-widgets/controls",
          "model_module_version": "1.5.0",
          "model_name": "HTMLModel",
          "state": {
            "_dom_classes": [],
            "_model_module": "@jupyter-widgets/controls",
            "_model_module_version": "1.5.0",
            "_model_name": "HTMLModel",
            "_view_count": null,
            "_view_module": "@jupyter-widgets/controls",
            "_view_module_version": "1.5.0",
            "_view_name": "HTMLView",
            "description": "",
            "description_tooltip": null,
            "layout": "IPY_MODEL_1e42aa21380b4c94b32ffa50e2f3b60b",
            "placeholder": "​",
            "style": "IPY_MODEL_1604f2cda6264f5ba32d011f7cb536c6",
            "value": "config.json: 100%"
          }
        }
      }
    }
  },
  "nbformat": 4,
  "nbformat_minor": 0
}
